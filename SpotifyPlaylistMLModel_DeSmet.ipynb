{
  "cells": [
    {
      "cell_type": "markdown",
      "metadata": {
        "id": "3WC2jxSqXNAs"
      },
      "source": [
        "## Spotify playlist prediction [Link](https://www.aicrowd.com/challenges/spotify-million-playlist-dataset-challenge)"
      ]
    },
    {
      "cell_type": "markdown",
      "metadata": {
        "id": "bq-q33Q5Wz9I"
      },
      "source": [
        "*Link to the dataset and competition page:*"
      ]
    },
    {
      "cell_type": "code",
      "execution_count": null,
      "metadata": {
        "id": "lVbNAB1t7sYf"
      },
      "outputs": [],
      "source": [
        "# https://www.aicrowd.com/challenges/spotify-million-playlist-dataset-challenge"
      ]
    },
    {
      "cell_type": "markdown",
      "metadata": {
        "id": "npsoGUvDKWn2"
      },
      "source": [
        "### How to solve: (Item-based collaborative filtering) - *Background detail*"
      ]
    },
    {
      "cell_type": "markdown",
      "metadata": {
        "id": "iEp2crCzM6F0"
      },
      "source": [
        "*Complex Approach:*"
      ]
    },
    {
      "cell_type": "code",
      "execution_count": null,
      "metadata": {
        "id": "r2xoYzOBHNYL"
      },
      "outputs": [],
      "source": [
        "# COMPLEX APPROACH: https://towardsdatascience.com/part-iii-building-a-song-recommendation-system-with-spotify-cf76b52705e7\n",
        "\n",
        "#        ^This website has a whole breakdown of a way to make a similar model, the problem is this is going\n",
        "#         to be very very complex and outside the scope of what we learned. Which is fine, but also makes the report quite hard."
      ]
    },
    {
      "cell_type": "markdown",
      "metadata": {
        "id": "bHDUEf0_M_UI"
      },
      "source": [
        "*Simplier approach:*"
      ]
    },
    {
      "cell_type": "code",
      "execution_count": null,
      "metadata": {
        "id": "_bDVu3TgK-Jz"
      },
      "outputs": [],
      "source": [
        "# A simplier approach: https://surpriselib.com/\n",
        "# ^ this has pre made recommender system algorithms"
      ]
    },
    {
      "cell_type": "code",
      "execution_count": null,
      "metadata": {
        "id": "u82z_GulLn_D"
      },
      "outputs": [],
      "source": [
        "# https://surprise.readthedocs.io/en/stable/prediction_algorithms.html\n",
        "# ^ will be needed for report"
      ]
    },
    {
      "cell_type": "markdown",
      "metadata": {
        "id": "T3mabbb1L6yX"
      },
      "source": [
        "Going with the above approach of using the simplier package will work as you can specify the type of collaborative filtering. In our case, we want item-based collaborative filtering. The difference between user-based and item-based is the level at which similarities are computed. So for user based it will target the song suggestions for a particular user, whereas item based will taget the song suggestions based off of other songs - *we want this*."
      ]
    },
    {
      "cell_type": "markdown",
      "metadata": {
        "id": "nD5opAZ-MdkA"
      },
      "source": [
        "This will work as long as we make sure we understand the data and make modelling and data manipulation decisions with the data in mind."
      ]
    },
    {
      "cell_type": "markdown",
      "metadata": {
        "id": "Aslmo7pOWi1n"
      },
      "source": [
        "*This guy explains some of the decisions we will have to make very well (and it's with super similar data) [video of song suggestion model](https://www.youtube.com/watch?v=zcPifvgECOw)*"
      ]
    },
    {
      "cell_type": "markdown",
      "metadata": {
        "id": "vCMtxEZJNY9w"
      },
      "source": [
        "**IF WE GO THIS ROUTE WHAT DO WE NEED TO DO:**"
      ]
    },
    {
      "cell_type": "markdown",
      "metadata": {
        "id": "kSsMrHZbNee8"
      },
      "source": [
        "I. We need to pick a simularity method to use. From my research I think we should use cosign, which I can explain in more detail in person, but the basic reasoning is it should work better with common items (playlists/songs) that are further apart in the feature space - and not show (*large*) bias towards one particular song or another. In more detail: The model works by \"plotting\" the features of each song (or the average of a playlist) on a multi-dimensional graph (*p features*). The model uses a \"similarity\" model to calculate the difference between those features. The math behind the distance depends on the \"similarity\" model. The advantage of each similarity model is noted in complete detail here ([similarities](https://surprise.readthedocs.io/en/stable/similarities.html#module-surprise.similarities))."
      ]
    },
    {
      "cell_type": "markdown",
      "metadata": {
        "id": "NkulLft_SJrn"
      },
      "source": [
        "II. After picking a simularity method, we then need to standardize the variables. The method of standardization varies, but I think most methods will work here. The important thing is we are standardizing so that the model will not show bias toward larger values - likely logistic standardizing/transformation will work best. This way playlists with large followers and songs with lots of plays don't scew the data from volume bias."
      ]
    },
    {
      "cell_type": "markdown",
      "metadata": {
        "id": "3NhGq1Q8S-Wv"
      },
      "source": [
        "III. One of the most important decisions we need to make is whether to include song meta data or not. Each song in a playlist has a song uri which can be used in collaboration with spotify's api to get song data such as temp, bpm, and other meaures. This would add an aditional layer of complexity but make the model work way better (meaning, we could maybe win). In my opinion we start with the simplier option and if our model works, we then copy it and modify the copied version to see if we can add the metadata."
      ]
    },
    {
      "cell_type": "markdown",
      "metadata": {
        "id": "AZ9nKUbVQzIE"
      },
      "source": [
        "IV. We also need to determine our predictive algorithm structure ([Custom Algo](https://surprise.readthedocs.io/en/stable/building_custom_algo.html)). This will go through each playlist in our test set. It is basically the same thing as if we ran it once, but for a large scale."
      ]
    },
    {
      "cell_type": "markdown",
      "metadata": {
        "id": "9wJEeCh-T07G"
      },
      "source": [
        "V. Lastly, we should break down the meaning of the *fit method* and the *trainset attribute* ([The fit method (trainset attribute right after)](https://surprise.readthedocs.io/en/stable/building_custom_algo.html#the-fit-method)) to better understand our predictions and model."
      ]
    },
    {
      "cell_type": "markdown",
      "metadata": {
        "id": "FVUNguy6Vec2"
      },
      "source": [
        "VI. Construct the model..."
      ]
    },
    {
      "cell_type": "markdown",
      "metadata": {
        "id": "86L5iM3TpAI0"
      },
      "source": [
        "\n",
        "\n",
        "---\n",
        "\n",
        "\n",
        "\n",
        "---\n",
        "\n"
      ]
    },
    {
      "cell_type": "markdown",
      "metadata": {
        "id": "GiTRSEI6on-k"
      },
      "source": [
        "*(hidden) import and setup:*"
      ]
    },
    {
      "cell_type": "markdown",
      "metadata": {
        "id": "Si-HMDDUpDF8"
      },
      "source": [
        "# I. Data Exploration"
      ]
    },
    {
      "cell_type": "markdown",
      "source": [
        "### **NOTE DO NOT PRINT THE CONTENTS OF A JSON FILE UNLESS NEEDED (TAKE A SAMPLE) ~ will 10% of the time crash colab**"
      ],
      "metadata": {
        "id": "QiB5xfx1rjv_"
      }
    },
    {
      "cell_type": "markdown",
      "metadata": {
        "id": "fWL9rG2zqE31"
      },
      "source": [
        "*Subsection: Loading Data*"
      ]
    },
    {
      "cell_type": "code",
      "execution_count": null,
      "metadata": {
        "id": "i5mXRk0vKODQ"
      },
      "outputs": [],
      "source": [
        "import pandas as pd\n",
        "import os\n",
        "import json\n",
        "import numpy as np"
      ]
    },
    {
      "cell_type": "code",
      "source": [],
      "metadata": {
        "id": "caJ5ua20z85R"
      },
      "execution_count": null,
      "outputs": []
    },
    {
      "cell_type": "code",
      "source": [
        "from google.colab import drive\n",
        "drive.mount('/content/drive')"
      ],
      "metadata": {
        "id": "w_5eLXIcna89",
        "colab": {
          "base_uri": "https://localhost:8080/"
        },
        "outputId": "babd3cbb-743d-4e78-9ae2-7a114c871c37"
      },
      "execution_count": null,
      "outputs": [
        {
          "output_type": "stream",
          "name": "stdout",
          "text": [
            "Drive already mounted at /content/drive; to attempt to forcibly remount, call drive.mount(\"/content/drive\", force_remount=True).\n"
          ]
        }
      ]
    },
    {
      "cell_type": "markdown",
      "source": [
        "Becuase of RAM limitations, we have to load the data in subsets, and then combine the subsets:"
      ],
      "metadata": {
        "id": "0esqMfv9xscF"
      }
    },
    {
      "cell_type": "code",
      "source": [
        "# subset 1\n",
        "i = 0\n",
        "spotifydata_s1 = pd.DataFrame()\n",
        "path = \"drive/MyDrive/data/subset1\"\n",
        "for mpd in os.listdir(\"drive/MyDrive/data/subset1\"):\n",
        "  if i >= 100:\n",
        "    break\n",
        "  with open(os.path.join(path, mpd), 'r') as j:\n",
        "     contents = json.loads(j.read())\n",
        "  spotifydata_s1 = pd.concat([spotifydata_s1, pd.json_normalize(contents[\"playlists\"])], ignore_index=True)\n",
        "  i += 1"
      ],
      "metadata": {
        "id": "BN7NZnpFoaby"
      },
      "execution_count": null,
      "outputs": []
    },
    {
      "cell_type": "code",
      "source": [
        "spotifydata_s1"
      ],
      "metadata": {
        "colab": {
          "base_uri": "https://localhost:8080/",
          "height": 999
        },
        "id": "VZHPhdkpzxjc",
        "outputId": "323dc5ec-242c-4ad5-f5a0-00699f92f627"
      },
      "execution_count": null,
      "outputs": [
        {
          "output_type": "execute_result",
          "data": {
            "text/plain": [
              "                    name collaborative     pid  modified_at  num_tracks  \\\n",
              "0            litty titty         false  115000   1508371200         212   \n",
              "1                   calm         false  115001   1447977600         165   \n",
              "2                   jams         false  115002   1470960000          37   \n",
              "3              Halloween         false  115003   1504224000         133   \n",
              "4             Energetic          false  115004   1430265600           8   \n",
              "...                  ...           ...     ...          ...         ...   \n",
              "99995              Chill         false  195995   1481846400          47   \n",
              "99996                POP         false  195996   1436054400          25   \n",
              "99997      2017 Playlist         false  195997   1506384000          50   \n",
              "99998  Chance The Rapper         false  195998   1508457600          14   \n",
              "99999        Spring 2k17         false  195999   1495065600          34   \n",
              "\n",
              "       num_albums  num_followers  \\\n",
              "0             126              1   \n",
              "1              29              2   \n",
              "2              34              2   \n",
              "3              73              1   \n",
              "4               8              1   \n",
              "...           ...            ...   \n",
              "99995          46              3   \n",
              "99996          20              1   \n",
              "99997          29              3   \n",
              "99998           6              1   \n",
              "99999          23              2   \n",
              "\n",
              "                                                  tracks  num_edits  \\\n",
              "0      [{'pos': 0, 'artist_name': 'Travis Scott', 'tr...         11   \n",
              "1      [{'pos': 0, 'artist_name': 'Albert Hammond, Jr...         19   \n",
              "2      [{'pos': 0, 'artist_name': 'Post Malone', 'tra...         11   \n",
              "3      [{'pos': 0, 'artist_name': 'Aurelio Voltaire',...          7   \n",
              "4      [{'pos': 0, 'artist_name': 'Lana Del Rey', 'tr...          4   \n",
              "...                                                  ...        ...   \n",
              "99995  [{'pos': 0, 'artist_name': 'Vance Joy', 'track...         40   \n",
              "99996  [{'pos': 0, 'artist_name': 'Jason Derulo', 'tr...          6   \n",
              "99997  [{'pos': 0, 'artist_name': 'Rihanna', 'track_u...          5   \n",
              "99998  [{'pos': 0, 'artist_name': 'Chance The Rapper'...          4   \n",
              "99999  [{'pos': 0, 'artist_name': 'Kodak Black', 'tra...          5   \n",
              "\n",
              "       duration_ms  num_artists description  \n",
              "0         51022342           75         NaN  \n",
              "1         28591224           21         NaN  \n",
              "2          8509329           31         NaN  \n",
              "3         27064505           77         NaN  \n",
              "4          1915178            8         NaN  \n",
              "...            ...          ...         ...  \n",
              "99995     11211960           45         NaN  \n",
              "99996      5429232           15         NaN  \n",
              "99997     10329101           24         NaN  \n",
              "99998      3478665            6         NaN  \n",
              "99999      7614727           22         NaN  \n",
              "\n",
              "[100000 rows x 12 columns]"
            ],
            "text/html": [
              "\n",
              "  <div id=\"df-147edc64-26c4-491e-9e34-cdc9eeeaa68c\" class=\"colab-df-container\">\n",
              "    <div>\n",
              "<style scoped>\n",
              "    .dataframe tbody tr th:only-of-type {\n",
              "        vertical-align: middle;\n",
              "    }\n",
              "\n",
              "    .dataframe tbody tr th {\n",
              "        vertical-align: top;\n",
              "    }\n",
              "\n",
              "    .dataframe thead th {\n",
              "        text-align: right;\n",
              "    }\n",
              "</style>\n",
              "<table border=\"1\" class=\"dataframe\">\n",
              "  <thead>\n",
              "    <tr style=\"text-align: right;\">\n",
              "      <th></th>\n",
              "      <th>name</th>\n",
              "      <th>collaborative</th>\n",
              "      <th>pid</th>\n",
              "      <th>modified_at</th>\n",
              "      <th>num_tracks</th>\n",
              "      <th>num_albums</th>\n",
              "      <th>num_followers</th>\n",
              "      <th>tracks</th>\n",
              "      <th>num_edits</th>\n",
              "      <th>duration_ms</th>\n",
              "      <th>num_artists</th>\n",
              "      <th>description</th>\n",
              "    </tr>\n",
              "  </thead>\n",
              "  <tbody>\n",
              "    <tr>\n",
              "      <th>0</th>\n",
              "      <td>litty titty</td>\n",
              "      <td>false</td>\n",
              "      <td>115000</td>\n",
              "      <td>1508371200</td>\n",
              "      <td>212</td>\n",
              "      <td>126</td>\n",
              "      <td>1</td>\n",
              "      <td>[{'pos': 0, 'artist_name': 'Travis Scott', 'tr...</td>\n",
              "      <td>11</td>\n",
              "      <td>51022342</td>\n",
              "      <td>75</td>\n",
              "      <td>NaN</td>\n",
              "    </tr>\n",
              "    <tr>\n",
              "      <th>1</th>\n",
              "      <td>calm</td>\n",
              "      <td>false</td>\n",
              "      <td>115001</td>\n",
              "      <td>1447977600</td>\n",
              "      <td>165</td>\n",
              "      <td>29</td>\n",
              "      <td>2</td>\n",
              "      <td>[{'pos': 0, 'artist_name': 'Albert Hammond, Jr...</td>\n",
              "      <td>19</td>\n",
              "      <td>28591224</td>\n",
              "      <td>21</td>\n",
              "      <td>NaN</td>\n",
              "    </tr>\n",
              "    <tr>\n",
              "      <th>2</th>\n",
              "      <td>jams</td>\n",
              "      <td>false</td>\n",
              "      <td>115002</td>\n",
              "      <td>1470960000</td>\n",
              "      <td>37</td>\n",
              "      <td>34</td>\n",
              "      <td>2</td>\n",
              "      <td>[{'pos': 0, 'artist_name': 'Post Malone', 'tra...</td>\n",
              "      <td>11</td>\n",
              "      <td>8509329</td>\n",
              "      <td>31</td>\n",
              "      <td>NaN</td>\n",
              "    </tr>\n",
              "    <tr>\n",
              "      <th>3</th>\n",
              "      <td>Halloween</td>\n",
              "      <td>false</td>\n",
              "      <td>115003</td>\n",
              "      <td>1504224000</td>\n",
              "      <td>133</td>\n",
              "      <td>73</td>\n",
              "      <td>1</td>\n",
              "      <td>[{'pos': 0, 'artist_name': 'Aurelio Voltaire',...</td>\n",
              "      <td>7</td>\n",
              "      <td>27064505</td>\n",
              "      <td>77</td>\n",
              "      <td>NaN</td>\n",
              "    </tr>\n",
              "    <tr>\n",
              "      <th>4</th>\n",
              "      <td>Energetic</td>\n",
              "      <td>false</td>\n",
              "      <td>115004</td>\n",
              "      <td>1430265600</td>\n",
              "      <td>8</td>\n",
              "      <td>8</td>\n",
              "      <td>1</td>\n",
              "      <td>[{'pos': 0, 'artist_name': 'Lana Del Rey', 'tr...</td>\n",
              "      <td>4</td>\n",
              "      <td>1915178</td>\n",
              "      <td>8</td>\n",
              "      <td>NaN</td>\n",
              "    </tr>\n",
              "    <tr>\n",
              "      <th>...</th>\n",
              "      <td>...</td>\n",
              "      <td>...</td>\n",
              "      <td>...</td>\n",
              "      <td>...</td>\n",
              "      <td>...</td>\n",
              "      <td>...</td>\n",
              "      <td>...</td>\n",
              "      <td>...</td>\n",
              "      <td>...</td>\n",
              "      <td>...</td>\n",
              "      <td>...</td>\n",
              "      <td>...</td>\n",
              "    </tr>\n",
              "    <tr>\n",
              "      <th>99995</th>\n",
              "      <td>Chill</td>\n",
              "      <td>false</td>\n",
              "      <td>195995</td>\n",
              "      <td>1481846400</td>\n",
              "      <td>47</td>\n",
              "      <td>46</td>\n",
              "      <td>3</td>\n",
              "      <td>[{'pos': 0, 'artist_name': 'Vance Joy', 'track...</td>\n",
              "      <td>40</td>\n",
              "      <td>11211960</td>\n",
              "      <td>45</td>\n",
              "      <td>NaN</td>\n",
              "    </tr>\n",
              "    <tr>\n",
              "      <th>99996</th>\n",
              "      <td>POP</td>\n",
              "      <td>false</td>\n",
              "      <td>195996</td>\n",
              "      <td>1436054400</td>\n",
              "      <td>25</td>\n",
              "      <td>20</td>\n",
              "      <td>1</td>\n",
              "      <td>[{'pos': 0, 'artist_name': 'Jason Derulo', 'tr...</td>\n",
              "      <td>6</td>\n",
              "      <td>5429232</td>\n",
              "      <td>15</td>\n",
              "      <td>NaN</td>\n",
              "    </tr>\n",
              "    <tr>\n",
              "      <th>99997</th>\n",
              "      <td>2017 Playlist</td>\n",
              "      <td>false</td>\n",
              "      <td>195997</td>\n",
              "      <td>1506384000</td>\n",
              "      <td>50</td>\n",
              "      <td>29</td>\n",
              "      <td>3</td>\n",
              "      <td>[{'pos': 0, 'artist_name': 'Rihanna', 'track_u...</td>\n",
              "      <td>5</td>\n",
              "      <td>10329101</td>\n",
              "      <td>24</td>\n",
              "      <td>NaN</td>\n",
              "    </tr>\n",
              "    <tr>\n",
              "      <th>99998</th>\n",
              "      <td>Chance The Rapper</td>\n",
              "      <td>false</td>\n",
              "      <td>195998</td>\n",
              "      <td>1508457600</td>\n",
              "      <td>14</td>\n",
              "      <td>6</td>\n",
              "      <td>1</td>\n",
              "      <td>[{'pos': 0, 'artist_name': 'Chance The Rapper'...</td>\n",
              "      <td>4</td>\n",
              "      <td>3478665</td>\n",
              "      <td>6</td>\n",
              "      <td>NaN</td>\n",
              "    </tr>\n",
              "    <tr>\n",
              "      <th>99999</th>\n",
              "      <td>Spring 2k17</td>\n",
              "      <td>false</td>\n",
              "      <td>195999</td>\n",
              "      <td>1495065600</td>\n",
              "      <td>34</td>\n",
              "      <td>23</td>\n",
              "      <td>2</td>\n",
              "      <td>[{'pos': 0, 'artist_name': 'Kodak Black', 'tra...</td>\n",
              "      <td>5</td>\n",
              "      <td>7614727</td>\n",
              "      <td>22</td>\n",
              "      <td>NaN</td>\n",
              "    </tr>\n",
              "  </tbody>\n",
              "</table>\n",
              "<p>100000 rows × 12 columns</p>\n",
              "</div>\n",
              "    <div class=\"colab-df-buttons\">\n",
              "\n",
              "  <div class=\"colab-df-container\">\n",
              "    <button class=\"colab-df-convert\" onclick=\"convertToInteractive('df-147edc64-26c4-491e-9e34-cdc9eeeaa68c')\"\n",
              "            title=\"Convert this dataframe to an interactive table.\"\n",
              "            style=\"display:none;\">\n",
              "\n",
              "  <svg xmlns=\"http://www.w3.org/2000/svg\" height=\"24px\" viewBox=\"0 -960 960 960\">\n",
              "    <path d=\"M120-120v-720h720v720H120Zm60-500h600v-160H180v160Zm220 220h160v-160H400v160Zm0 220h160v-160H400v160ZM180-400h160v-160H180v160Zm440 0h160v-160H620v160ZM180-180h160v-160H180v160Zm440 0h160v-160H620v160Z\"/>\n",
              "  </svg>\n",
              "    </button>\n",
              "\n",
              "  <style>\n",
              "    .colab-df-container {\n",
              "      display:flex;\n",
              "      gap: 12px;\n",
              "    }\n",
              "\n",
              "    .colab-df-convert {\n",
              "      background-color: #E8F0FE;\n",
              "      border: none;\n",
              "      border-radius: 50%;\n",
              "      cursor: pointer;\n",
              "      display: none;\n",
              "      fill: #1967D2;\n",
              "      height: 32px;\n",
              "      padding: 0 0 0 0;\n",
              "      width: 32px;\n",
              "    }\n",
              "\n",
              "    .colab-df-convert:hover {\n",
              "      background-color: #E2EBFA;\n",
              "      box-shadow: 0px 1px 2px rgba(60, 64, 67, 0.3), 0px 1px 3px 1px rgba(60, 64, 67, 0.15);\n",
              "      fill: #174EA6;\n",
              "    }\n",
              "\n",
              "    .colab-df-buttons div {\n",
              "      margin-bottom: 4px;\n",
              "    }\n",
              "\n",
              "    [theme=dark] .colab-df-convert {\n",
              "      background-color: #3B4455;\n",
              "      fill: #D2E3FC;\n",
              "    }\n",
              "\n",
              "    [theme=dark] .colab-df-convert:hover {\n",
              "      background-color: #434B5C;\n",
              "      box-shadow: 0px 1px 3px 1px rgba(0, 0, 0, 0.15);\n",
              "      filter: drop-shadow(0px 1px 2px rgba(0, 0, 0, 0.3));\n",
              "      fill: #FFFFFF;\n",
              "    }\n",
              "  </style>\n",
              "\n",
              "    <script>\n",
              "      const buttonEl =\n",
              "        document.querySelector('#df-147edc64-26c4-491e-9e34-cdc9eeeaa68c button.colab-df-convert');\n",
              "      buttonEl.style.display =\n",
              "        google.colab.kernel.accessAllowed ? 'block' : 'none';\n",
              "\n",
              "      async function convertToInteractive(key) {\n",
              "        const element = document.querySelector('#df-147edc64-26c4-491e-9e34-cdc9eeeaa68c');\n",
              "        const dataTable =\n",
              "          await google.colab.kernel.invokeFunction('convertToInteractive',\n",
              "                                                    [key], {});\n",
              "        if (!dataTable) return;\n",
              "\n",
              "        const docLinkHtml = 'Like what you see? Visit the ' +\n",
              "          '<a target=\"_blank\" href=https://colab.research.google.com/notebooks/data_table.ipynb>data table notebook</a>'\n",
              "          + ' to learn more about interactive tables.';\n",
              "        element.innerHTML = '';\n",
              "        dataTable['output_type'] = 'display_data';\n",
              "        await google.colab.output.renderOutput(dataTable, element);\n",
              "        const docLink = document.createElement('div');\n",
              "        docLink.innerHTML = docLinkHtml;\n",
              "        element.appendChild(docLink);\n",
              "      }\n",
              "    </script>\n",
              "  </div>\n",
              "\n",
              "\n",
              "<div id=\"df-f4066a63-b8de-4678-b49c-be794ee8a468\">\n",
              "  <button class=\"colab-df-quickchart\" onclick=\"quickchart('df-f4066a63-b8de-4678-b49c-be794ee8a468')\"\n",
              "            title=\"Suggest charts\"\n",
              "            style=\"display:none;\">\n",
              "\n",
              "<svg xmlns=\"http://www.w3.org/2000/svg\" height=\"24px\"viewBox=\"0 0 24 24\"\n",
              "     width=\"24px\">\n",
              "    <g>\n",
              "        <path d=\"M19 3H5c-1.1 0-2 .9-2 2v14c0 1.1.9 2 2 2h14c1.1 0 2-.9 2-2V5c0-1.1-.9-2-2-2zM9 17H7v-7h2v7zm4 0h-2V7h2v10zm4 0h-2v-4h2v4z\"/>\n",
              "    </g>\n",
              "</svg>\n",
              "  </button>\n",
              "\n",
              "<style>\n",
              "  .colab-df-quickchart {\n",
              "      --bg-color: #E8F0FE;\n",
              "      --fill-color: #1967D2;\n",
              "      --hover-bg-color: #E2EBFA;\n",
              "      --hover-fill-color: #174EA6;\n",
              "      --disabled-fill-color: #AAA;\n",
              "      --disabled-bg-color: #DDD;\n",
              "  }\n",
              "\n",
              "  [theme=dark] .colab-df-quickchart {\n",
              "      --bg-color: #3B4455;\n",
              "      --fill-color: #D2E3FC;\n",
              "      --hover-bg-color: #434B5C;\n",
              "      --hover-fill-color: #FFFFFF;\n",
              "      --disabled-bg-color: #3B4455;\n",
              "      --disabled-fill-color: #666;\n",
              "  }\n",
              "\n",
              "  .colab-df-quickchart {\n",
              "    background-color: var(--bg-color);\n",
              "    border: none;\n",
              "    border-radius: 50%;\n",
              "    cursor: pointer;\n",
              "    display: none;\n",
              "    fill: var(--fill-color);\n",
              "    height: 32px;\n",
              "    padding: 0;\n",
              "    width: 32px;\n",
              "  }\n",
              "\n",
              "  .colab-df-quickchart:hover {\n",
              "    background-color: var(--hover-bg-color);\n",
              "    box-shadow: 0 1px 2px rgba(60, 64, 67, 0.3), 0 1px 3px 1px rgba(60, 64, 67, 0.15);\n",
              "    fill: var(--button-hover-fill-color);\n",
              "  }\n",
              "\n",
              "  .colab-df-quickchart-complete:disabled,\n",
              "  .colab-df-quickchart-complete:disabled:hover {\n",
              "    background-color: var(--disabled-bg-color);\n",
              "    fill: var(--disabled-fill-color);\n",
              "    box-shadow: none;\n",
              "  }\n",
              "\n",
              "  .colab-df-spinner {\n",
              "    border: 2px solid var(--fill-color);\n",
              "    border-color: transparent;\n",
              "    border-bottom-color: var(--fill-color);\n",
              "    animation:\n",
              "      spin 1s steps(1) infinite;\n",
              "  }\n",
              "\n",
              "  @keyframes spin {\n",
              "    0% {\n",
              "      border-color: transparent;\n",
              "      border-bottom-color: var(--fill-color);\n",
              "      border-left-color: var(--fill-color);\n",
              "    }\n",
              "    20% {\n",
              "      border-color: transparent;\n",
              "      border-left-color: var(--fill-color);\n",
              "      border-top-color: var(--fill-color);\n",
              "    }\n",
              "    30% {\n",
              "      border-color: transparent;\n",
              "      border-left-color: var(--fill-color);\n",
              "      border-top-color: var(--fill-color);\n",
              "      border-right-color: var(--fill-color);\n",
              "    }\n",
              "    40% {\n",
              "      border-color: transparent;\n",
              "      border-right-color: var(--fill-color);\n",
              "      border-top-color: var(--fill-color);\n",
              "    }\n",
              "    60% {\n",
              "      border-color: transparent;\n",
              "      border-right-color: var(--fill-color);\n",
              "    }\n",
              "    80% {\n",
              "      border-color: transparent;\n",
              "      border-right-color: var(--fill-color);\n",
              "      border-bottom-color: var(--fill-color);\n",
              "    }\n",
              "    90% {\n",
              "      border-color: transparent;\n",
              "      border-bottom-color: var(--fill-color);\n",
              "    }\n",
              "  }\n",
              "</style>\n",
              "\n",
              "  <script>\n",
              "    async function quickchart(key) {\n",
              "      const quickchartButtonEl =\n",
              "        document.querySelector('#' + key + ' button');\n",
              "      quickchartButtonEl.disabled = true;  // To prevent multiple clicks.\n",
              "      quickchartButtonEl.classList.add('colab-df-spinner');\n",
              "      try {\n",
              "        const charts = await google.colab.kernel.invokeFunction(\n",
              "            'suggestCharts', [key], {});\n",
              "      } catch (error) {\n",
              "        console.error('Error during call to suggestCharts:', error);\n",
              "      }\n",
              "      quickchartButtonEl.classList.remove('colab-df-spinner');\n",
              "      quickchartButtonEl.classList.add('colab-df-quickchart-complete');\n",
              "    }\n",
              "    (() => {\n",
              "      let quickchartButtonEl =\n",
              "        document.querySelector('#df-f4066a63-b8de-4678-b49c-be794ee8a468 button');\n",
              "      quickchartButtonEl.style.display =\n",
              "        google.colab.kernel.accessAllowed ? 'block' : 'none';\n",
              "    })();\n",
              "  </script>\n",
              "</div>\n",
              "\n",
              "  <div id=\"id_652caf63-7387-41ef-96a6-7b065ca0bc46\">\n",
              "    <style>\n",
              "      .colab-df-generate {\n",
              "        background-color: #E8F0FE;\n",
              "        border: none;\n",
              "        border-radius: 50%;\n",
              "        cursor: pointer;\n",
              "        display: none;\n",
              "        fill: #1967D2;\n",
              "        height: 32px;\n",
              "        padding: 0 0 0 0;\n",
              "        width: 32px;\n",
              "      }\n",
              "\n",
              "      .colab-df-generate:hover {\n",
              "        background-color: #E2EBFA;\n",
              "        box-shadow: 0px 1px 2px rgba(60, 64, 67, 0.3), 0px 1px 3px 1px rgba(60, 64, 67, 0.15);\n",
              "        fill: #174EA6;\n",
              "      }\n",
              "\n",
              "      [theme=dark] .colab-df-generate {\n",
              "        background-color: #3B4455;\n",
              "        fill: #D2E3FC;\n",
              "      }\n",
              "\n",
              "      [theme=dark] .colab-df-generate:hover {\n",
              "        background-color: #434B5C;\n",
              "        box-shadow: 0px 1px 3px 1px rgba(0, 0, 0, 0.15);\n",
              "        filter: drop-shadow(0px 1px 2px rgba(0, 0, 0, 0.3));\n",
              "        fill: #FFFFFF;\n",
              "      }\n",
              "    </style>\n",
              "    <button class=\"colab-df-generate\" onclick=\"generateWithVariable('spotifydata_s1')\"\n",
              "            title=\"Generate code using this dataframe.\"\n",
              "            style=\"display:none;\">\n",
              "\n",
              "  <svg xmlns=\"http://www.w3.org/2000/svg\" height=\"24px\"viewBox=\"0 0 24 24\"\n",
              "       width=\"24px\">\n",
              "    <path d=\"M7,19H8.4L18.45,9,17,7.55,7,17.6ZM5,21V16.75L18.45,3.32a2,2,0,0,1,2.83,0l1.4,1.43a1.91,1.91,0,0,1,.58,1.4,1.91,1.91,0,0,1-.58,1.4L9.25,21ZM18.45,9,17,7.55Zm-12,3A5.31,5.31,0,0,0,4.9,8.1,5.31,5.31,0,0,0,1,6.5,5.31,5.31,0,0,0,4.9,4.9,5.31,5.31,0,0,0,6.5,1,5.31,5.31,0,0,0,8.1,4.9,5.31,5.31,0,0,0,12,6.5,5.46,5.46,0,0,0,6.5,12Z\"/>\n",
              "  </svg>\n",
              "    </button>\n",
              "    <script>\n",
              "      (() => {\n",
              "      const buttonEl =\n",
              "        document.querySelector('#id_652caf63-7387-41ef-96a6-7b065ca0bc46 button.colab-df-generate');\n",
              "      buttonEl.style.display =\n",
              "        google.colab.kernel.accessAllowed ? 'block' : 'none';\n",
              "\n",
              "      buttonEl.onclick = () => {\n",
              "        google.colab.notebook.generateWithVariable('spotifydata_s1');\n",
              "      }\n",
              "      })();\n",
              "    </script>\n",
              "  </div>\n",
              "\n",
              "    </div>\n",
              "  </div>\n"
            ]
          },
          "metadata": {},
          "execution_count": 4
        }
      ]
    },
    {
      "cell_type": "markdown",
      "source": [
        "*Exploring the data: Seeing what the playlist track dictionaries consist of*"
      ],
      "metadata": {
        "id": "j7N4uIW0g6na"
      }
    },
    {
      "cell_type": "code",
      "source": [
        "tracklist = spotifydata_s1[\"tracks\"][0]\n",
        "tracklist[1]"
      ],
      "metadata": {
        "colab": {
          "base_uri": "https://localhost:8080/"
        },
        "id": "X1JEFVumQ0-g",
        "outputId": "6f0c233a-806f-4bc1-fbc2-904c877fbd77"
      },
      "execution_count": null,
      "outputs": [
        {
          "output_type": "execute_result",
          "data": {
            "text/plain": [
              "{'pos': 1,\n",
              " 'artist_name': 'Travis Scott',\n",
              " 'track_uri': 'spotify:track:6gBFPUFcJLzWGx4lenP6h2',\n",
              " 'artist_uri': 'spotify:artist:0Y5tJX1MQlPlqiwlOH1tJY',\n",
              " 'track_name': 'goosebumps',\n",
              " 'album_uri': 'spotify:album:42WVQWuf1teDysXiOupIZt',\n",
              " 'duration_ms': 243836,\n",
              " 'album_name': 'Birds In The Trap Sing McKnight'}"
            ]
          },
          "metadata": {},
          "execution_count": 5
        }
      ]
    },
    {
      "cell_type": "markdown",
      "source": [
        "*Normalizing the tracklist to get an easier look*\n",
        "- This playlist has 212 songs"
      ],
      "metadata": {
        "id": "CfP43PwdhJsy"
      }
    },
    {
      "cell_type": "code",
      "source": [
        "\n",
        "pd.json_normalize(tracklist)"
      ],
      "metadata": {
        "colab": {
          "base_uri": "https://localhost:8080/",
          "height": 686
        },
        "id": "m4QvsKKSTM83",
        "outputId": "6935e44c-f134-44b2-86e8-f936ce7b291e"
      },
      "execution_count": null,
      "outputs": [
        {
          "output_type": "execute_result",
          "data": {
            "text/plain": [
              "     pos   artist_name                             track_uri  \\\n",
              "0      0  Travis Scott  spotify:track:0ESJlaM8CE1jRWaNtwSNj8   \n",
              "1      1  Travis Scott  spotify:track:6gBFPUFcJLzWGx4lenP6h2   \n",
              "2      2  Travis Scott  spotify:track:2c2csx4OTYtbkzvbSTXlGY   \n",
              "3      3  Travis Scott  spotify:track:1yxgsra98r3qAtxqiGZPiX   \n",
              "4      4  Travis Scott  spotify:track:1SGt65i9AnXYdDQt1AtDRH   \n",
              "..   ...           ...                                   ...   \n",
              "207  207          Russ  spotify:track:3pndPhlQWjuSoXhcIIdBjv   \n",
              "208  208       Jeremih  spotify:track:0PJIbOdMs3bd5AT8liULMQ   \n",
              "209  209       Jeremih  spotify:track:08zJpaUQVi9FrKv2e32Bah   \n",
              "210  210       Rihanna  spotify:track:3DZQ6mzUkAdHqZWzqxBKIK   \n",
              "211  211   Chris Brown  spotify:track:5gx2E5aIXMRBellPZW1up5   \n",
              "\n",
              "                                artist_uri           track_name  \\\n",
              "0    spotify:artist:0Y5tJX1MQlPlqiwlOH1tJY    beibs in the trap   \n",
              "1    spotify:artist:0Y5tJX1MQlPlqiwlOH1tJY           goosebumps   \n",
              "2    spotify:artist:0Y5tJX1MQlPlqiwlOH1tJY             guidance   \n",
              "3    spotify:artist:0Y5tJX1MQlPlqiwlOH1tJY     Butterfly Effect   \n",
              "4    spotify:artist:0Y5tJX1MQlPlqiwlOH1tJY                 3500   \n",
              "..                                     ...                  ...   \n",
              "207  spotify:artist:1z7b1Pr1rSlvWRzsW3HOrS       What They Want   \n",
              "208  spotify:artist:3KV3p5EY4AvKxOlhGHORLg                  oui   \n",
              "209  spotify:artist:3KV3p5EY4AvKxOlhGHORLg               Planez   \n",
              "210  spotify:artist:5pKCCKE2ajJHZ9KAiaK11H      Loveeeeeee Song   \n",
              "211  spotify:artist:7bXgB6jMjp9ATFy66eO08Z  Pills & Automobiles   \n",
              "\n",
              "                                album_uri  duration_ms  \\\n",
              "0    spotify:album:42WVQWuf1teDysXiOupIZt       213863   \n",
              "1    spotify:album:42WVQWuf1teDysXiOupIZt       243836   \n",
              "2    spotify:album:42WVQWuf1teDysXiOupIZt       207107   \n",
              "3    spotify:album:4fOw7xSDwqb58Z2Qia5j81       190677   \n",
              "4    spotify:album:4PWBTB6NYSKQwfo79I3prg       461840   \n",
              "..                                    ...          ...   \n",
              "207  spotify:album:0lUL92det7mZ4DaHYmiUEC       165853   \n",
              "208  spotify:album:7DMyQuDPe8xzjC0UDSDa96       238320   \n",
              "209  spotify:album:7DMyQuDPe8xzjC0UDSDa96       240320   \n",
              "210  spotify:album:4eddbruVtOqw8khwxSH6H2       256320   \n",
              "211  spotify:album:3zak0kNLcOY5vFcB3Ipskp       293434   \n",
              "\n",
              "                          album_name  \n",
              "0    Birds In The Trap Sing McKnight  \n",
              "1    Birds In The Trap Sing McKnight  \n",
              "2    Birds In The Trap Sing McKnight  \n",
              "3                   Butterfly Effect  \n",
              "4                              Rodeo  \n",
              "..                               ...  \n",
              "207            There's Really A Wolf  \n",
              "208           Late Nights: The Album  \n",
              "209           Late Nights: The Album  \n",
              "210                     Unapologetic  \n",
              "211        Heartbreak on a Full Moon  \n",
              "\n",
              "[212 rows x 8 columns]"
            ],
            "text/html": [
              "\n",
              "  <div id=\"df-f7ef63ee-bb3a-4778-b2c1-f2280173321a\" class=\"colab-df-container\">\n",
              "    <div>\n",
              "<style scoped>\n",
              "    .dataframe tbody tr th:only-of-type {\n",
              "        vertical-align: middle;\n",
              "    }\n",
              "\n",
              "    .dataframe tbody tr th {\n",
              "        vertical-align: top;\n",
              "    }\n",
              "\n",
              "    .dataframe thead th {\n",
              "        text-align: right;\n",
              "    }\n",
              "</style>\n",
              "<table border=\"1\" class=\"dataframe\">\n",
              "  <thead>\n",
              "    <tr style=\"text-align: right;\">\n",
              "      <th></th>\n",
              "      <th>pos</th>\n",
              "      <th>artist_name</th>\n",
              "      <th>track_uri</th>\n",
              "      <th>artist_uri</th>\n",
              "      <th>track_name</th>\n",
              "      <th>album_uri</th>\n",
              "      <th>duration_ms</th>\n",
              "      <th>album_name</th>\n",
              "    </tr>\n",
              "  </thead>\n",
              "  <tbody>\n",
              "    <tr>\n",
              "      <th>0</th>\n",
              "      <td>0</td>\n",
              "      <td>Travis Scott</td>\n",
              "      <td>spotify:track:0ESJlaM8CE1jRWaNtwSNj8</td>\n",
              "      <td>spotify:artist:0Y5tJX1MQlPlqiwlOH1tJY</td>\n",
              "      <td>beibs in the trap</td>\n",
              "      <td>spotify:album:42WVQWuf1teDysXiOupIZt</td>\n",
              "      <td>213863</td>\n",
              "      <td>Birds In The Trap Sing McKnight</td>\n",
              "    </tr>\n",
              "    <tr>\n",
              "      <th>1</th>\n",
              "      <td>1</td>\n",
              "      <td>Travis Scott</td>\n",
              "      <td>spotify:track:6gBFPUFcJLzWGx4lenP6h2</td>\n",
              "      <td>spotify:artist:0Y5tJX1MQlPlqiwlOH1tJY</td>\n",
              "      <td>goosebumps</td>\n",
              "      <td>spotify:album:42WVQWuf1teDysXiOupIZt</td>\n",
              "      <td>243836</td>\n",
              "      <td>Birds In The Trap Sing McKnight</td>\n",
              "    </tr>\n",
              "    <tr>\n",
              "      <th>2</th>\n",
              "      <td>2</td>\n",
              "      <td>Travis Scott</td>\n",
              "      <td>spotify:track:2c2csx4OTYtbkzvbSTXlGY</td>\n",
              "      <td>spotify:artist:0Y5tJX1MQlPlqiwlOH1tJY</td>\n",
              "      <td>guidance</td>\n",
              "      <td>spotify:album:42WVQWuf1teDysXiOupIZt</td>\n",
              "      <td>207107</td>\n",
              "      <td>Birds In The Trap Sing McKnight</td>\n",
              "    </tr>\n",
              "    <tr>\n",
              "      <th>3</th>\n",
              "      <td>3</td>\n",
              "      <td>Travis Scott</td>\n",
              "      <td>spotify:track:1yxgsra98r3qAtxqiGZPiX</td>\n",
              "      <td>spotify:artist:0Y5tJX1MQlPlqiwlOH1tJY</td>\n",
              "      <td>Butterfly Effect</td>\n",
              "      <td>spotify:album:4fOw7xSDwqb58Z2Qia5j81</td>\n",
              "      <td>190677</td>\n",
              "      <td>Butterfly Effect</td>\n",
              "    </tr>\n",
              "    <tr>\n",
              "      <th>4</th>\n",
              "      <td>4</td>\n",
              "      <td>Travis Scott</td>\n",
              "      <td>spotify:track:1SGt65i9AnXYdDQt1AtDRH</td>\n",
              "      <td>spotify:artist:0Y5tJX1MQlPlqiwlOH1tJY</td>\n",
              "      <td>3500</td>\n",
              "      <td>spotify:album:4PWBTB6NYSKQwfo79I3prg</td>\n",
              "      <td>461840</td>\n",
              "      <td>Rodeo</td>\n",
              "    </tr>\n",
              "    <tr>\n",
              "      <th>...</th>\n",
              "      <td>...</td>\n",
              "      <td>...</td>\n",
              "      <td>...</td>\n",
              "      <td>...</td>\n",
              "      <td>...</td>\n",
              "      <td>...</td>\n",
              "      <td>...</td>\n",
              "      <td>...</td>\n",
              "    </tr>\n",
              "    <tr>\n",
              "      <th>207</th>\n",
              "      <td>207</td>\n",
              "      <td>Russ</td>\n",
              "      <td>spotify:track:3pndPhlQWjuSoXhcIIdBjv</td>\n",
              "      <td>spotify:artist:1z7b1Pr1rSlvWRzsW3HOrS</td>\n",
              "      <td>What They Want</td>\n",
              "      <td>spotify:album:0lUL92det7mZ4DaHYmiUEC</td>\n",
              "      <td>165853</td>\n",
              "      <td>There's Really A Wolf</td>\n",
              "    </tr>\n",
              "    <tr>\n",
              "      <th>208</th>\n",
              "      <td>208</td>\n",
              "      <td>Jeremih</td>\n",
              "      <td>spotify:track:0PJIbOdMs3bd5AT8liULMQ</td>\n",
              "      <td>spotify:artist:3KV3p5EY4AvKxOlhGHORLg</td>\n",
              "      <td>oui</td>\n",
              "      <td>spotify:album:7DMyQuDPe8xzjC0UDSDa96</td>\n",
              "      <td>238320</td>\n",
              "      <td>Late Nights: The Album</td>\n",
              "    </tr>\n",
              "    <tr>\n",
              "      <th>209</th>\n",
              "      <td>209</td>\n",
              "      <td>Jeremih</td>\n",
              "      <td>spotify:track:08zJpaUQVi9FrKv2e32Bah</td>\n",
              "      <td>spotify:artist:3KV3p5EY4AvKxOlhGHORLg</td>\n",
              "      <td>Planez</td>\n",
              "      <td>spotify:album:7DMyQuDPe8xzjC0UDSDa96</td>\n",
              "      <td>240320</td>\n",
              "      <td>Late Nights: The Album</td>\n",
              "    </tr>\n",
              "    <tr>\n",
              "      <th>210</th>\n",
              "      <td>210</td>\n",
              "      <td>Rihanna</td>\n",
              "      <td>spotify:track:3DZQ6mzUkAdHqZWzqxBKIK</td>\n",
              "      <td>spotify:artist:5pKCCKE2ajJHZ9KAiaK11H</td>\n",
              "      <td>Loveeeeeee Song</td>\n",
              "      <td>spotify:album:4eddbruVtOqw8khwxSH6H2</td>\n",
              "      <td>256320</td>\n",
              "      <td>Unapologetic</td>\n",
              "    </tr>\n",
              "    <tr>\n",
              "      <th>211</th>\n",
              "      <td>211</td>\n",
              "      <td>Chris Brown</td>\n",
              "      <td>spotify:track:5gx2E5aIXMRBellPZW1up5</td>\n",
              "      <td>spotify:artist:7bXgB6jMjp9ATFy66eO08Z</td>\n",
              "      <td>Pills &amp; Automobiles</td>\n",
              "      <td>spotify:album:3zak0kNLcOY5vFcB3Ipskp</td>\n",
              "      <td>293434</td>\n",
              "      <td>Heartbreak on a Full Moon</td>\n",
              "    </tr>\n",
              "  </tbody>\n",
              "</table>\n",
              "<p>212 rows × 8 columns</p>\n",
              "</div>\n",
              "    <div class=\"colab-df-buttons\">\n",
              "\n",
              "  <div class=\"colab-df-container\">\n",
              "    <button class=\"colab-df-convert\" onclick=\"convertToInteractive('df-f7ef63ee-bb3a-4778-b2c1-f2280173321a')\"\n",
              "            title=\"Convert this dataframe to an interactive table.\"\n",
              "            style=\"display:none;\">\n",
              "\n",
              "  <svg xmlns=\"http://www.w3.org/2000/svg\" height=\"24px\" viewBox=\"0 -960 960 960\">\n",
              "    <path d=\"M120-120v-720h720v720H120Zm60-500h600v-160H180v160Zm220 220h160v-160H400v160Zm0 220h160v-160H400v160ZM180-400h160v-160H180v160Zm440 0h160v-160H620v160ZM180-180h160v-160H180v160Zm440 0h160v-160H620v160Z\"/>\n",
              "  </svg>\n",
              "    </button>\n",
              "\n",
              "  <style>\n",
              "    .colab-df-container {\n",
              "      display:flex;\n",
              "      gap: 12px;\n",
              "    }\n",
              "\n",
              "    .colab-df-convert {\n",
              "      background-color: #E8F0FE;\n",
              "      border: none;\n",
              "      border-radius: 50%;\n",
              "      cursor: pointer;\n",
              "      display: none;\n",
              "      fill: #1967D2;\n",
              "      height: 32px;\n",
              "      padding: 0 0 0 0;\n",
              "      width: 32px;\n",
              "    }\n",
              "\n",
              "    .colab-df-convert:hover {\n",
              "      background-color: #E2EBFA;\n",
              "      box-shadow: 0px 1px 2px rgba(60, 64, 67, 0.3), 0px 1px 3px 1px rgba(60, 64, 67, 0.15);\n",
              "      fill: #174EA6;\n",
              "    }\n",
              "\n",
              "    .colab-df-buttons div {\n",
              "      margin-bottom: 4px;\n",
              "    }\n",
              "\n",
              "    [theme=dark] .colab-df-convert {\n",
              "      background-color: #3B4455;\n",
              "      fill: #D2E3FC;\n",
              "    }\n",
              "\n",
              "    [theme=dark] .colab-df-convert:hover {\n",
              "      background-color: #434B5C;\n",
              "      box-shadow: 0px 1px 3px 1px rgba(0, 0, 0, 0.15);\n",
              "      filter: drop-shadow(0px 1px 2px rgba(0, 0, 0, 0.3));\n",
              "      fill: #FFFFFF;\n",
              "    }\n",
              "  </style>\n",
              "\n",
              "    <script>\n",
              "      const buttonEl =\n",
              "        document.querySelector('#df-f7ef63ee-bb3a-4778-b2c1-f2280173321a button.colab-df-convert');\n",
              "      buttonEl.style.display =\n",
              "        google.colab.kernel.accessAllowed ? 'block' : 'none';\n",
              "\n",
              "      async function convertToInteractive(key) {\n",
              "        const element = document.querySelector('#df-f7ef63ee-bb3a-4778-b2c1-f2280173321a');\n",
              "        const dataTable =\n",
              "          await google.colab.kernel.invokeFunction('convertToInteractive',\n",
              "                                                    [key], {});\n",
              "        if (!dataTable) return;\n",
              "\n",
              "        const docLinkHtml = 'Like what you see? Visit the ' +\n",
              "          '<a target=\"_blank\" href=https://colab.research.google.com/notebooks/data_table.ipynb>data table notebook</a>'\n",
              "          + ' to learn more about interactive tables.';\n",
              "        element.innerHTML = '';\n",
              "        dataTable['output_type'] = 'display_data';\n",
              "        await google.colab.output.renderOutput(dataTable, element);\n",
              "        const docLink = document.createElement('div');\n",
              "        docLink.innerHTML = docLinkHtml;\n",
              "        element.appendChild(docLink);\n",
              "      }\n",
              "    </script>\n",
              "  </div>\n",
              "\n",
              "\n",
              "<div id=\"df-5307c387-d750-491a-8761-c0a8b24b7ae4\">\n",
              "  <button class=\"colab-df-quickchart\" onclick=\"quickchart('df-5307c387-d750-491a-8761-c0a8b24b7ae4')\"\n",
              "            title=\"Suggest charts\"\n",
              "            style=\"display:none;\">\n",
              "\n",
              "<svg xmlns=\"http://www.w3.org/2000/svg\" height=\"24px\"viewBox=\"0 0 24 24\"\n",
              "     width=\"24px\">\n",
              "    <g>\n",
              "        <path d=\"M19 3H5c-1.1 0-2 .9-2 2v14c0 1.1.9 2 2 2h14c1.1 0 2-.9 2-2V5c0-1.1-.9-2-2-2zM9 17H7v-7h2v7zm4 0h-2V7h2v10zm4 0h-2v-4h2v4z\"/>\n",
              "    </g>\n",
              "</svg>\n",
              "  </button>\n",
              "\n",
              "<style>\n",
              "  .colab-df-quickchart {\n",
              "      --bg-color: #E8F0FE;\n",
              "      --fill-color: #1967D2;\n",
              "      --hover-bg-color: #E2EBFA;\n",
              "      --hover-fill-color: #174EA6;\n",
              "      --disabled-fill-color: #AAA;\n",
              "      --disabled-bg-color: #DDD;\n",
              "  }\n",
              "\n",
              "  [theme=dark] .colab-df-quickchart {\n",
              "      --bg-color: #3B4455;\n",
              "      --fill-color: #D2E3FC;\n",
              "      --hover-bg-color: #434B5C;\n",
              "      --hover-fill-color: #FFFFFF;\n",
              "      --disabled-bg-color: #3B4455;\n",
              "      --disabled-fill-color: #666;\n",
              "  }\n",
              "\n",
              "  .colab-df-quickchart {\n",
              "    background-color: var(--bg-color);\n",
              "    border: none;\n",
              "    border-radius: 50%;\n",
              "    cursor: pointer;\n",
              "    display: none;\n",
              "    fill: var(--fill-color);\n",
              "    height: 32px;\n",
              "    padding: 0;\n",
              "    width: 32px;\n",
              "  }\n",
              "\n",
              "  .colab-df-quickchart:hover {\n",
              "    background-color: var(--hover-bg-color);\n",
              "    box-shadow: 0 1px 2px rgba(60, 64, 67, 0.3), 0 1px 3px 1px rgba(60, 64, 67, 0.15);\n",
              "    fill: var(--button-hover-fill-color);\n",
              "  }\n",
              "\n",
              "  .colab-df-quickchart-complete:disabled,\n",
              "  .colab-df-quickchart-complete:disabled:hover {\n",
              "    background-color: var(--disabled-bg-color);\n",
              "    fill: var(--disabled-fill-color);\n",
              "    box-shadow: none;\n",
              "  }\n",
              "\n",
              "  .colab-df-spinner {\n",
              "    border: 2px solid var(--fill-color);\n",
              "    border-color: transparent;\n",
              "    border-bottom-color: var(--fill-color);\n",
              "    animation:\n",
              "      spin 1s steps(1) infinite;\n",
              "  }\n",
              "\n",
              "  @keyframes spin {\n",
              "    0% {\n",
              "      border-color: transparent;\n",
              "      border-bottom-color: var(--fill-color);\n",
              "      border-left-color: var(--fill-color);\n",
              "    }\n",
              "    20% {\n",
              "      border-color: transparent;\n",
              "      border-left-color: var(--fill-color);\n",
              "      border-top-color: var(--fill-color);\n",
              "    }\n",
              "    30% {\n",
              "      border-color: transparent;\n",
              "      border-left-color: var(--fill-color);\n",
              "      border-top-color: var(--fill-color);\n",
              "      border-right-color: var(--fill-color);\n",
              "    }\n",
              "    40% {\n",
              "      border-color: transparent;\n",
              "      border-right-color: var(--fill-color);\n",
              "      border-top-color: var(--fill-color);\n",
              "    }\n",
              "    60% {\n",
              "      border-color: transparent;\n",
              "      border-right-color: var(--fill-color);\n",
              "    }\n",
              "    80% {\n",
              "      border-color: transparent;\n",
              "      border-right-color: var(--fill-color);\n",
              "      border-bottom-color: var(--fill-color);\n",
              "    }\n",
              "    90% {\n",
              "      border-color: transparent;\n",
              "      border-bottom-color: var(--fill-color);\n",
              "    }\n",
              "  }\n",
              "</style>\n",
              "\n",
              "  <script>\n",
              "    async function quickchart(key) {\n",
              "      const quickchartButtonEl =\n",
              "        document.querySelector('#' + key + ' button');\n",
              "      quickchartButtonEl.disabled = true;  // To prevent multiple clicks.\n",
              "      quickchartButtonEl.classList.add('colab-df-spinner');\n",
              "      try {\n",
              "        const charts = await google.colab.kernel.invokeFunction(\n",
              "            'suggestCharts', [key], {});\n",
              "      } catch (error) {\n",
              "        console.error('Error during call to suggestCharts:', error);\n",
              "      }\n",
              "      quickchartButtonEl.classList.remove('colab-df-spinner');\n",
              "      quickchartButtonEl.classList.add('colab-df-quickchart-complete');\n",
              "    }\n",
              "    (() => {\n",
              "      let quickchartButtonEl =\n",
              "        document.querySelector('#df-5307c387-d750-491a-8761-c0a8b24b7ae4 button');\n",
              "      quickchartButtonEl.style.display =\n",
              "        google.colab.kernel.accessAllowed ? 'block' : 'none';\n",
              "    })();\n",
              "  </script>\n",
              "</div>\n",
              "\n",
              "    </div>\n",
              "  </div>\n"
            ]
          },
          "metadata": {},
          "execution_count": 6
        }
      ]
    },
    {
      "cell_type": "markdown",
      "source": [
        "---\n",
        "\n",
        "# API: requests *(exploring the api)*"
      ],
      "metadata": {
        "id": "BdkJGQ8QkYRV"
      }
    },
    {
      "cell_type": "code",
      "source": [
        "import spotipy\n",
        "from spotipy.oauth2 import SpotifyClientCredentials"
      ],
      "metadata": {
        "id": "GZsAUSNhQ-Hr"
      },
      "execution_count": null,
      "outputs": []
    },
    {
      "cell_type": "code",
      "source": [
        "import requests\n",
        "import base64\n",
        "\n",
        "client_id = \"f07c1447c8384d3d9f5731543d6a4ba6\"\n",
        "client_secret = \"747df0293f3c4a39a45da2ceacfd5708\"\n",
        "\n",
        "encoded = base64.b64encode((client_id + \":\" + client_secret).encode(\"ascii\")).decode(\"ascii\")\n",
        "\n",
        "headers = {\n",
        "     \"Content-Type\": \"application/x-www-form-urlencoded\",\n",
        "     \"Authorization\": \"Basic \" + encoded\n",
        "}\n",
        "\n",
        "payload = {\n",
        "     \"grant_type\": \"client_credentials\"\n",
        "}\n",
        "\n",
        "response = requests.post(\"https://accounts.spotify.com/api/token\", data=payload, headers=headers)\n",
        "print(response.text)"
      ],
      "metadata": {
        "id": "37359l6bU-V8"
      },
      "execution_count": null,
      "outputs": []
    },
    {
      "cell_type": "code",
      "source": [
        "api_token = \"BQCbWuhhU0Y7OxYoW_tIpDsbb1Kuuw9XpcwPSvmEyQyIkdjHimU1IW4b7uD9eHNPC6K0ycGanRREcfUhjMHmp-4hhqeD_Q2OZam3AsBQ7wywj26xH-4\""
      ],
      "metadata": {
        "id": "bY2GQoutY8sB"
      },
      "execution_count": null,
      "outputs": []
    },
    {
      "cell_type": "code",
      "source": [
        "response = requests.get(\"https://api.spotify.com/v1/artists/31TPClRtHm23RisEBtV3X7\", headers = {\"Content-Type\": \"application/json\", \"Authorization\": f\"Bearer {api_token}\"})"
      ],
      "metadata": {
        "id": "5ublu-pPXgeN"
      },
      "execution_count": null,
      "outputs": []
    },
    {
      "cell_type": "code",
      "source": [
        "temp =response.json()"
      ],
      "metadata": {
        "id": "A_UpWlMOXhBk"
      },
      "execution_count": null,
      "outputs": []
    },
    {
      "cell_type": "code",
      "source": [
        "temp"
      ],
      "metadata": {
        "id": "FcmKVn9_iBkF"
      },
      "execution_count": null,
      "outputs": []
    },
    {
      "cell_type": "markdown",
      "source": [
        "---"
      ],
      "metadata": {
        "id": "XImRiqHgke_g"
      }
    },
    {
      "cell_type": "markdown",
      "source": [
        "---\n",
        "\n",
        "# PLAYLIST PREDICTION MODEL:"
      ],
      "metadata": {
        "id": "QWG1yIAV3D1e"
      }
    },
    {
      "cell_type": "code",
      "source": [
        "import gc # attempt to limit ram\n",
        "gc.collect()"
      ],
      "metadata": {
        "colab": {
          "base_uri": "https://localhost:8080/"
        },
        "id": "4tpvFyUbPKwi",
        "outputId": "a7a93749-ea17-4bb1-aa54-5e29e7ef3ce7"
      },
      "execution_count": null,
      "outputs": [
        {
          "output_type": "execute_result",
          "data": {
            "text/plain": [
              "0"
            ]
          },
          "metadata": {},
          "execution_count": 7
        }
      ]
    },
    {
      "cell_type": "markdown",
      "source": [
        "*Searches through all 100k rows and creates a new col called tracknames - corresponding to each track dictionary*"
      ],
      "metadata": {
        "id": "kSEKK-9uhpMK"
      }
    },
    {
      "cell_type": "code",
      "source": [
        "list_trackname_col = []\n",
        "for row in spotifydata_s1.iloc():\n",
        "  tracknames = list()\n",
        "  tracklist = row['tracks']\n",
        "  for track in tracklist:\n",
        "    tracknames.append(track[\"track_name\"])\n",
        "  list_trackname_col.append(tracknames)\n",
        "\n",
        "spotifydata_s1[\"tracknames\"] = list_trackname_col\n",
        "gc.collect()"
      ],
      "metadata": {
        "colab": {
          "base_uri": "https://localhost:8080/"
        },
        "id": "W9B1mcLnIWiS",
        "outputId": "162b33c3-69e6-47c7-ce26-a0193eccb439"
      },
      "execution_count": null,
      "outputs": [
        {
          "output_type": "execute_result",
          "data": {
            "text/plain": [
              "0"
            ]
          },
          "metadata": {},
          "execution_count": 8
        }
      ]
    },
    {
      "cell_type": "markdown",
      "source": [
        "*RAM was crashing the colab script when running machine learning model - so a subset was selected at a time*"
      ],
      "metadata": {
        "id": "iJdDYf2iiAkO"
      }
    },
    {
      "cell_type": "code",
      "source": [
        "subdata = spotifydata_s1.loc[:1000]"
      ],
      "metadata": {
        "id": "7R7NAVK9LZvE"
      },
      "execution_count": null,
      "outputs": []
    },
    {
      "cell_type": "code",
      "source": [
        "subdata"
      ],
      "metadata": {
        "colab": {
          "base_uri": "https://localhost:8080/",
          "height": 1000
        },
        "id": "Vvy_nRdFRtP3",
        "outputId": "291ce3c3-1796-402b-e2eb-4506f1b6ecc1"
      },
      "execution_count": null,
      "outputs": [
        {
          "output_type": "execute_result",
          "data": {
            "text/plain": [
              "             name collaborative     pid  modified_at  num_tracks  num_albums  \\\n",
              "0     litty titty         false  115000   1508371200         212         126   \n",
              "1            calm         false  115001   1447977600         165          29   \n",
              "2            jams         false  115002   1470960000          37          34   \n",
              "3       Halloween         false  115003   1504224000         133          73   \n",
              "4      Energetic          false  115004   1430265600           8           8   \n",
              "...           ...           ...     ...          ...         ...         ...   \n",
              "996         Chaos          true  115996   1408406400          20          19   \n",
              "997   Spring 2014         false  115997   1417305600          14          12   \n",
              "998        autumn         false  115998   1507161600          35          32   \n",
              "999         ChIlL         false  115999   1509321600         136         118   \n",
              "1000       NewNew         false    7000   1509321600          83          78   \n",
              "\n",
              "      num_followers                                             tracks  \\\n",
              "0                 1  [{'pos': 0, 'artist_name': 'Travis Scott', 'tr...   \n",
              "1                 2  [{'pos': 0, 'artist_name': 'Albert Hammond, Jr...   \n",
              "2                 2  [{'pos': 0, 'artist_name': 'Post Malone', 'tra...   \n",
              "3                 1  [{'pos': 0, 'artist_name': 'Aurelio Voltaire',...   \n",
              "4                 1  [{'pos': 0, 'artist_name': 'Lana Del Rey', 'tr...   \n",
              "...             ...                                                ...   \n",
              "996               1  [{'pos': 0, 'artist_name': 'Kormac', 'track_ur...   \n",
              "997               1  [{'pos': 0, 'artist_name': 'Disclosure', 'trac...   \n",
              "998               1  [{'pos': 0, 'artist_name': 'Hayley Kiyoko', 't...   \n",
              "999               2  [{'pos': 0, 'artist_name': 'Drake', 'track_uri...   \n",
              "1000              2  [{'pos': 0, 'artist_name': 'WILDES', 'track_ur...   \n",
              "\n",
              "      num_edits  duration_ms  num_artists description  \\\n",
              "0            11     51022342           75         NaN   \n",
              "1            19     28591224           21         NaN   \n",
              "2            11      8509329           31         NaN   \n",
              "3             7     27064505           77         NaN   \n",
              "4             4      1915178            8         NaN   \n",
              "...         ...          ...          ...         ...   \n",
              "996          16      5660735           17         NaN   \n",
              "997           8      3765841            9         NaN   \n",
              "998           8      8322008           31         NaN   \n",
              "999          96     31046977           99         NaN   \n",
              "1000         49     18461552           72         NaN   \n",
              "\n",
              "                                             tracknames  \n",
              "0     [beibs in the trap, goosebumps, guidance, Butt...  \n",
              "1     [Spooky Couch, The Heroic Weather-Conditions o...  \n",
              "2     [Go Flex, Never Be Like You, Look Alive, Lockj...  \n",
              "3     [Brains! (From The Grim Adventures of Billy an...  \n",
              "4     [Summertime Sadness [Lana Del Rey vs. Cedric G...  \n",
              "...                                                 ...  \n",
              "996   [Superhero - Original Mix, Artichaut, Dragons,...  \n",
              "997   [Latch, Rather Be (feat. Jess Glynne), Nirvana...  \n",
              "998   [Gravel To Tempo, 101, V. 3005, Blue Denim, Se...  \n",
              "999   [Right Hand, Broken, Say You Won't Let Go, Rid...  \n",
              "1000  [Bare, Dynasty, First, Your Girl, One Dance, L...  \n",
              "\n",
              "[1001 rows x 13 columns]"
            ],
            "text/html": [
              "\n",
              "  <div id=\"df-5babf643-97d2-48dc-8a6c-5fe85b7574b3\" class=\"colab-df-container\">\n",
              "    <div>\n",
              "<style scoped>\n",
              "    .dataframe tbody tr th:only-of-type {\n",
              "        vertical-align: middle;\n",
              "    }\n",
              "\n",
              "    .dataframe tbody tr th {\n",
              "        vertical-align: top;\n",
              "    }\n",
              "\n",
              "    .dataframe thead th {\n",
              "        text-align: right;\n",
              "    }\n",
              "</style>\n",
              "<table border=\"1\" class=\"dataframe\">\n",
              "  <thead>\n",
              "    <tr style=\"text-align: right;\">\n",
              "      <th></th>\n",
              "      <th>name</th>\n",
              "      <th>collaborative</th>\n",
              "      <th>pid</th>\n",
              "      <th>modified_at</th>\n",
              "      <th>num_tracks</th>\n",
              "      <th>num_albums</th>\n",
              "      <th>num_followers</th>\n",
              "      <th>tracks</th>\n",
              "      <th>num_edits</th>\n",
              "      <th>duration_ms</th>\n",
              "      <th>num_artists</th>\n",
              "      <th>description</th>\n",
              "      <th>tracknames</th>\n",
              "    </tr>\n",
              "  </thead>\n",
              "  <tbody>\n",
              "    <tr>\n",
              "      <th>0</th>\n",
              "      <td>litty titty</td>\n",
              "      <td>false</td>\n",
              "      <td>115000</td>\n",
              "      <td>1508371200</td>\n",
              "      <td>212</td>\n",
              "      <td>126</td>\n",
              "      <td>1</td>\n",
              "      <td>[{'pos': 0, 'artist_name': 'Travis Scott', 'tr...</td>\n",
              "      <td>11</td>\n",
              "      <td>51022342</td>\n",
              "      <td>75</td>\n",
              "      <td>NaN</td>\n",
              "      <td>[beibs in the trap, goosebumps, guidance, Butt...</td>\n",
              "    </tr>\n",
              "    <tr>\n",
              "      <th>1</th>\n",
              "      <td>calm</td>\n",
              "      <td>false</td>\n",
              "      <td>115001</td>\n",
              "      <td>1447977600</td>\n",
              "      <td>165</td>\n",
              "      <td>29</td>\n",
              "      <td>2</td>\n",
              "      <td>[{'pos': 0, 'artist_name': 'Albert Hammond, Jr...</td>\n",
              "      <td>19</td>\n",
              "      <td>28591224</td>\n",
              "      <td>21</td>\n",
              "      <td>NaN</td>\n",
              "      <td>[Spooky Couch, The Heroic Weather-Conditions o...</td>\n",
              "    </tr>\n",
              "    <tr>\n",
              "      <th>2</th>\n",
              "      <td>jams</td>\n",
              "      <td>false</td>\n",
              "      <td>115002</td>\n",
              "      <td>1470960000</td>\n",
              "      <td>37</td>\n",
              "      <td>34</td>\n",
              "      <td>2</td>\n",
              "      <td>[{'pos': 0, 'artist_name': 'Post Malone', 'tra...</td>\n",
              "      <td>11</td>\n",
              "      <td>8509329</td>\n",
              "      <td>31</td>\n",
              "      <td>NaN</td>\n",
              "      <td>[Go Flex, Never Be Like You, Look Alive, Lockj...</td>\n",
              "    </tr>\n",
              "    <tr>\n",
              "      <th>3</th>\n",
              "      <td>Halloween</td>\n",
              "      <td>false</td>\n",
              "      <td>115003</td>\n",
              "      <td>1504224000</td>\n",
              "      <td>133</td>\n",
              "      <td>73</td>\n",
              "      <td>1</td>\n",
              "      <td>[{'pos': 0, 'artist_name': 'Aurelio Voltaire',...</td>\n",
              "      <td>7</td>\n",
              "      <td>27064505</td>\n",
              "      <td>77</td>\n",
              "      <td>NaN</td>\n",
              "      <td>[Brains! (From The Grim Adventures of Billy an...</td>\n",
              "    </tr>\n",
              "    <tr>\n",
              "      <th>4</th>\n",
              "      <td>Energetic</td>\n",
              "      <td>false</td>\n",
              "      <td>115004</td>\n",
              "      <td>1430265600</td>\n",
              "      <td>8</td>\n",
              "      <td>8</td>\n",
              "      <td>1</td>\n",
              "      <td>[{'pos': 0, 'artist_name': 'Lana Del Rey', 'tr...</td>\n",
              "      <td>4</td>\n",
              "      <td>1915178</td>\n",
              "      <td>8</td>\n",
              "      <td>NaN</td>\n",
              "      <td>[Summertime Sadness [Lana Del Rey vs. Cedric G...</td>\n",
              "    </tr>\n",
              "    <tr>\n",
              "      <th>...</th>\n",
              "      <td>...</td>\n",
              "      <td>...</td>\n",
              "      <td>...</td>\n",
              "      <td>...</td>\n",
              "      <td>...</td>\n",
              "      <td>...</td>\n",
              "      <td>...</td>\n",
              "      <td>...</td>\n",
              "      <td>...</td>\n",
              "      <td>...</td>\n",
              "      <td>...</td>\n",
              "      <td>...</td>\n",
              "      <td>...</td>\n",
              "    </tr>\n",
              "    <tr>\n",
              "      <th>996</th>\n",
              "      <td>Chaos</td>\n",
              "      <td>true</td>\n",
              "      <td>115996</td>\n",
              "      <td>1408406400</td>\n",
              "      <td>20</td>\n",
              "      <td>19</td>\n",
              "      <td>1</td>\n",
              "      <td>[{'pos': 0, 'artist_name': 'Kormac', 'track_ur...</td>\n",
              "      <td>16</td>\n",
              "      <td>5660735</td>\n",
              "      <td>17</td>\n",
              "      <td>NaN</td>\n",
              "      <td>[Superhero - Original Mix, Artichaut, Dragons,...</td>\n",
              "    </tr>\n",
              "    <tr>\n",
              "      <th>997</th>\n",
              "      <td>Spring 2014</td>\n",
              "      <td>false</td>\n",
              "      <td>115997</td>\n",
              "      <td>1417305600</td>\n",
              "      <td>14</td>\n",
              "      <td>12</td>\n",
              "      <td>1</td>\n",
              "      <td>[{'pos': 0, 'artist_name': 'Disclosure', 'trac...</td>\n",
              "      <td>8</td>\n",
              "      <td>3765841</td>\n",
              "      <td>9</td>\n",
              "      <td>NaN</td>\n",
              "      <td>[Latch, Rather Be (feat. Jess Glynne), Nirvana...</td>\n",
              "    </tr>\n",
              "    <tr>\n",
              "      <th>998</th>\n",
              "      <td>autumn</td>\n",
              "      <td>false</td>\n",
              "      <td>115998</td>\n",
              "      <td>1507161600</td>\n",
              "      <td>35</td>\n",
              "      <td>32</td>\n",
              "      <td>1</td>\n",
              "      <td>[{'pos': 0, 'artist_name': 'Hayley Kiyoko', 't...</td>\n",
              "      <td>8</td>\n",
              "      <td>8322008</td>\n",
              "      <td>31</td>\n",
              "      <td>NaN</td>\n",
              "      <td>[Gravel To Tempo, 101, V. 3005, Blue Denim, Se...</td>\n",
              "    </tr>\n",
              "    <tr>\n",
              "      <th>999</th>\n",
              "      <td>ChIlL</td>\n",
              "      <td>false</td>\n",
              "      <td>115999</td>\n",
              "      <td>1509321600</td>\n",
              "      <td>136</td>\n",
              "      <td>118</td>\n",
              "      <td>2</td>\n",
              "      <td>[{'pos': 0, 'artist_name': 'Drake', 'track_uri...</td>\n",
              "      <td>96</td>\n",
              "      <td>31046977</td>\n",
              "      <td>99</td>\n",
              "      <td>NaN</td>\n",
              "      <td>[Right Hand, Broken, Say You Won't Let Go, Rid...</td>\n",
              "    </tr>\n",
              "    <tr>\n",
              "      <th>1000</th>\n",
              "      <td>NewNew</td>\n",
              "      <td>false</td>\n",
              "      <td>7000</td>\n",
              "      <td>1509321600</td>\n",
              "      <td>83</td>\n",
              "      <td>78</td>\n",
              "      <td>2</td>\n",
              "      <td>[{'pos': 0, 'artist_name': 'WILDES', 'track_ur...</td>\n",
              "      <td>49</td>\n",
              "      <td>18461552</td>\n",
              "      <td>72</td>\n",
              "      <td>NaN</td>\n",
              "      <td>[Bare, Dynasty, First, Your Girl, One Dance, L...</td>\n",
              "    </tr>\n",
              "  </tbody>\n",
              "</table>\n",
              "<p>1001 rows × 13 columns</p>\n",
              "</div>\n",
              "    <div class=\"colab-df-buttons\">\n",
              "\n",
              "  <div class=\"colab-df-container\">\n",
              "    <button class=\"colab-df-convert\" onclick=\"convertToInteractive('df-5babf643-97d2-48dc-8a6c-5fe85b7574b3')\"\n",
              "            title=\"Convert this dataframe to an interactive table.\"\n",
              "            style=\"display:none;\">\n",
              "\n",
              "  <svg xmlns=\"http://www.w3.org/2000/svg\" height=\"24px\" viewBox=\"0 -960 960 960\">\n",
              "    <path d=\"M120-120v-720h720v720H120Zm60-500h600v-160H180v160Zm220 220h160v-160H400v160Zm0 220h160v-160H400v160ZM180-400h160v-160H180v160Zm440 0h160v-160H620v160ZM180-180h160v-160H180v160Zm440 0h160v-160H620v160Z\"/>\n",
              "  </svg>\n",
              "    </button>\n",
              "\n",
              "  <style>\n",
              "    .colab-df-container {\n",
              "      display:flex;\n",
              "      gap: 12px;\n",
              "    }\n",
              "\n",
              "    .colab-df-convert {\n",
              "      background-color: #E8F0FE;\n",
              "      border: none;\n",
              "      border-radius: 50%;\n",
              "      cursor: pointer;\n",
              "      display: none;\n",
              "      fill: #1967D2;\n",
              "      height: 32px;\n",
              "      padding: 0 0 0 0;\n",
              "      width: 32px;\n",
              "    }\n",
              "\n",
              "    .colab-df-convert:hover {\n",
              "      background-color: #E2EBFA;\n",
              "      box-shadow: 0px 1px 2px rgba(60, 64, 67, 0.3), 0px 1px 3px 1px rgba(60, 64, 67, 0.15);\n",
              "      fill: #174EA6;\n",
              "    }\n",
              "\n",
              "    .colab-df-buttons div {\n",
              "      margin-bottom: 4px;\n",
              "    }\n",
              "\n",
              "    [theme=dark] .colab-df-convert {\n",
              "      background-color: #3B4455;\n",
              "      fill: #D2E3FC;\n",
              "    }\n",
              "\n",
              "    [theme=dark] .colab-df-convert:hover {\n",
              "      background-color: #434B5C;\n",
              "      box-shadow: 0px 1px 3px 1px rgba(0, 0, 0, 0.15);\n",
              "      filter: drop-shadow(0px 1px 2px rgba(0, 0, 0, 0.3));\n",
              "      fill: #FFFFFF;\n",
              "    }\n",
              "  </style>\n",
              "\n",
              "    <script>\n",
              "      const buttonEl =\n",
              "        document.querySelector('#df-5babf643-97d2-48dc-8a6c-5fe85b7574b3 button.colab-df-convert');\n",
              "      buttonEl.style.display =\n",
              "        google.colab.kernel.accessAllowed ? 'block' : 'none';\n",
              "\n",
              "      async function convertToInteractive(key) {\n",
              "        const element = document.querySelector('#df-5babf643-97d2-48dc-8a6c-5fe85b7574b3');\n",
              "        const dataTable =\n",
              "          await google.colab.kernel.invokeFunction('convertToInteractive',\n",
              "                                                    [key], {});\n",
              "        if (!dataTable) return;\n",
              "\n",
              "        const docLinkHtml = 'Like what you see? Visit the ' +\n",
              "          '<a target=\"_blank\" href=https://colab.research.google.com/notebooks/data_table.ipynb>data table notebook</a>'\n",
              "          + ' to learn more about interactive tables.';\n",
              "        element.innerHTML = '';\n",
              "        dataTable['output_type'] = 'display_data';\n",
              "        await google.colab.output.renderOutput(dataTable, element);\n",
              "        const docLink = document.createElement('div');\n",
              "        docLink.innerHTML = docLinkHtml;\n",
              "        element.appendChild(docLink);\n",
              "      }\n",
              "    </script>\n",
              "  </div>\n",
              "\n",
              "\n",
              "<div id=\"df-4d02ecdb-8ac9-4099-a820-da92fede3a17\">\n",
              "  <button class=\"colab-df-quickchart\" onclick=\"quickchart('df-4d02ecdb-8ac9-4099-a820-da92fede3a17')\"\n",
              "            title=\"Suggest charts\"\n",
              "            style=\"display:none;\">\n",
              "\n",
              "<svg xmlns=\"http://www.w3.org/2000/svg\" height=\"24px\"viewBox=\"0 0 24 24\"\n",
              "     width=\"24px\">\n",
              "    <g>\n",
              "        <path d=\"M19 3H5c-1.1 0-2 .9-2 2v14c0 1.1.9 2 2 2h14c1.1 0 2-.9 2-2V5c0-1.1-.9-2-2-2zM9 17H7v-7h2v7zm4 0h-2V7h2v10zm4 0h-2v-4h2v4z\"/>\n",
              "    </g>\n",
              "</svg>\n",
              "  </button>\n",
              "\n",
              "<style>\n",
              "  .colab-df-quickchart {\n",
              "      --bg-color: #E8F0FE;\n",
              "      --fill-color: #1967D2;\n",
              "      --hover-bg-color: #E2EBFA;\n",
              "      --hover-fill-color: #174EA6;\n",
              "      --disabled-fill-color: #AAA;\n",
              "      --disabled-bg-color: #DDD;\n",
              "  }\n",
              "\n",
              "  [theme=dark] .colab-df-quickchart {\n",
              "      --bg-color: #3B4455;\n",
              "      --fill-color: #D2E3FC;\n",
              "      --hover-bg-color: #434B5C;\n",
              "      --hover-fill-color: #FFFFFF;\n",
              "      --disabled-bg-color: #3B4455;\n",
              "      --disabled-fill-color: #666;\n",
              "  }\n",
              "\n",
              "  .colab-df-quickchart {\n",
              "    background-color: var(--bg-color);\n",
              "    border: none;\n",
              "    border-radius: 50%;\n",
              "    cursor: pointer;\n",
              "    display: none;\n",
              "    fill: var(--fill-color);\n",
              "    height: 32px;\n",
              "    padding: 0;\n",
              "    width: 32px;\n",
              "  }\n",
              "\n",
              "  .colab-df-quickchart:hover {\n",
              "    background-color: var(--hover-bg-color);\n",
              "    box-shadow: 0 1px 2px rgba(60, 64, 67, 0.3), 0 1px 3px 1px rgba(60, 64, 67, 0.15);\n",
              "    fill: var(--button-hover-fill-color);\n",
              "  }\n",
              "\n",
              "  .colab-df-quickchart-complete:disabled,\n",
              "  .colab-df-quickchart-complete:disabled:hover {\n",
              "    background-color: var(--disabled-bg-color);\n",
              "    fill: var(--disabled-fill-color);\n",
              "    box-shadow: none;\n",
              "  }\n",
              "\n",
              "  .colab-df-spinner {\n",
              "    border: 2px solid var(--fill-color);\n",
              "    border-color: transparent;\n",
              "    border-bottom-color: var(--fill-color);\n",
              "    animation:\n",
              "      spin 1s steps(1) infinite;\n",
              "  }\n",
              "\n",
              "  @keyframes spin {\n",
              "    0% {\n",
              "      border-color: transparent;\n",
              "      border-bottom-color: var(--fill-color);\n",
              "      border-left-color: var(--fill-color);\n",
              "    }\n",
              "    20% {\n",
              "      border-color: transparent;\n",
              "      border-left-color: var(--fill-color);\n",
              "      border-top-color: var(--fill-color);\n",
              "    }\n",
              "    30% {\n",
              "      border-color: transparent;\n",
              "      border-left-color: var(--fill-color);\n",
              "      border-top-color: var(--fill-color);\n",
              "      border-right-color: var(--fill-color);\n",
              "    }\n",
              "    40% {\n",
              "      border-color: transparent;\n",
              "      border-right-color: var(--fill-color);\n",
              "      border-top-color: var(--fill-color);\n",
              "    }\n",
              "    60% {\n",
              "      border-color: transparent;\n",
              "      border-right-color: var(--fill-color);\n",
              "    }\n",
              "    80% {\n",
              "      border-color: transparent;\n",
              "      border-right-color: var(--fill-color);\n",
              "      border-bottom-color: var(--fill-color);\n",
              "    }\n",
              "    90% {\n",
              "      border-color: transparent;\n",
              "      border-bottom-color: var(--fill-color);\n",
              "    }\n",
              "  }\n",
              "</style>\n",
              "\n",
              "  <script>\n",
              "    async function quickchart(key) {\n",
              "      const quickchartButtonEl =\n",
              "        document.querySelector('#' + key + ' button');\n",
              "      quickchartButtonEl.disabled = true;  // To prevent multiple clicks.\n",
              "      quickchartButtonEl.classList.add('colab-df-spinner');\n",
              "      try {\n",
              "        const charts = await google.colab.kernel.invokeFunction(\n",
              "            'suggestCharts', [key], {});\n",
              "      } catch (error) {\n",
              "        console.error('Error during call to suggestCharts:', error);\n",
              "      }\n",
              "      quickchartButtonEl.classList.remove('colab-df-spinner');\n",
              "      quickchartButtonEl.classList.add('colab-df-quickchart-complete');\n",
              "    }\n",
              "    (() => {\n",
              "      let quickchartButtonEl =\n",
              "        document.querySelector('#df-4d02ecdb-8ac9-4099-a820-da92fede3a17 button');\n",
              "      quickchartButtonEl.style.display =\n",
              "        google.colab.kernel.accessAllowed ? 'block' : 'none';\n",
              "    })();\n",
              "  </script>\n",
              "</div>\n",
              "\n",
              "  <div id=\"id_766eddf6-8f66-412d-992a-b80797124923\">\n",
              "    <style>\n",
              "      .colab-df-generate {\n",
              "        background-color: #E8F0FE;\n",
              "        border: none;\n",
              "        border-radius: 50%;\n",
              "        cursor: pointer;\n",
              "        display: none;\n",
              "        fill: #1967D2;\n",
              "        height: 32px;\n",
              "        padding: 0 0 0 0;\n",
              "        width: 32px;\n",
              "      }\n",
              "\n",
              "      .colab-df-generate:hover {\n",
              "        background-color: #E2EBFA;\n",
              "        box-shadow: 0px 1px 2px rgba(60, 64, 67, 0.3), 0px 1px 3px 1px rgba(60, 64, 67, 0.15);\n",
              "        fill: #174EA6;\n",
              "      }\n",
              "\n",
              "      [theme=dark] .colab-df-generate {\n",
              "        background-color: #3B4455;\n",
              "        fill: #D2E3FC;\n",
              "      }\n",
              "\n",
              "      [theme=dark] .colab-df-generate:hover {\n",
              "        background-color: #434B5C;\n",
              "        box-shadow: 0px 1px 3px 1px rgba(0, 0, 0, 0.15);\n",
              "        filter: drop-shadow(0px 1px 2px rgba(0, 0, 0, 0.3));\n",
              "        fill: #FFFFFF;\n",
              "      }\n",
              "    </style>\n",
              "    <button class=\"colab-df-generate\" onclick=\"generateWithVariable('subdata')\"\n",
              "            title=\"Generate code using this dataframe.\"\n",
              "            style=\"display:none;\">\n",
              "\n",
              "  <svg xmlns=\"http://www.w3.org/2000/svg\" height=\"24px\"viewBox=\"0 0 24 24\"\n",
              "       width=\"24px\">\n",
              "    <path d=\"M7,19H8.4L18.45,9,17,7.55,7,17.6ZM5,21V16.75L18.45,3.32a2,2,0,0,1,2.83,0l1.4,1.43a1.91,1.91,0,0,1,.58,1.4,1.91,1.91,0,0,1-.58,1.4L9.25,21ZM18.45,9,17,7.55Zm-12,3A5.31,5.31,0,0,0,4.9,8.1,5.31,5.31,0,0,0,1,6.5,5.31,5.31,0,0,0,4.9,4.9,5.31,5.31,0,0,0,6.5,1,5.31,5.31,0,0,0,8.1,4.9,5.31,5.31,0,0,0,12,6.5,5.46,5.46,0,0,0,6.5,12Z\"/>\n",
              "  </svg>\n",
              "    </button>\n",
              "    <script>\n",
              "      (() => {\n",
              "      const buttonEl =\n",
              "        document.querySelector('#id_766eddf6-8f66-412d-992a-b80797124923 button.colab-df-generate');\n",
              "      buttonEl.style.display =\n",
              "        google.colab.kernel.accessAllowed ? 'block' : 'none';\n",
              "\n",
              "      buttonEl.onclick = () => {\n",
              "        google.colab.notebook.generateWithVariable('subdata');\n",
              "      }\n",
              "      })();\n",
              "    </script>\n",
              "  </div>\n",
              "\n",
              "    </div>\n",
              "  </div>\n"
            ]
          },
          "metadata": {},
          "execution_count": 10
        }
      ]
    },
    {
      "cell_type": "markdown",
      "source": [
        "*Inorder to buid a cooccurrence matrix first we must get a list of every unique track name - did this through a set*"
      ],
      "metadata": {
        "id": "It0WI0cYiQTj"
      }
    },
    {
      "cell_type": "code",
      "source": [
        "tset = set()\n",
        "for tlist in subdata[\"tracknames\"]:\n",
        "  for t in tlist:\n",
        "    tset.add(t)"
      ],
      "metadata": {
        "id": "rqwy0BE9dT9F"
      },
      "execution_count": null,
      "outputs": []
    },
    {
      "cell_type": "markdown",
      "source": [
        "*This creates the cooccurrence matrix called 'playlist_matrix' using the MultiLabelBinarizer package. It then takes that cooccurrence matrix and constructs a similarity matrix using cosine similarity for distance. This similarity matrix will become the backbone of our ML model.*"
      ],
      "metadata": {
        "id": "Kbenpp9Hik1d"
      }
    },
    {
      "cell_type": "code",
      "source": [
        "# song encoding for playlist id\n",
        "from sklearn.preprocessing import MultiLabelBinarizer\n",
        "from sklearn.metrics.pairwise import cosine_similarity\n",
        "\n",
        "playlist_matrix = None\n",
        "mlb = MultiLabelBinarizer()\n",
        "playlist_matrix = pd.DataFrame(mlb.fit_transform(subdata['tracknames']), columns=mlb.classes_, index=subdata.index)\n",
        "\n",
        "# Calculate the cosine similarity matrix\n",
        "similarity_matrix = cosine_similarity(playlist_matrix.T, dense_output=False)\n",
        "\n",
        "gc.collect()"
      ],
      "metadata": {
        "id": "wK22U_XyHRjo",
        "colab": {
          "base_uri": "https://localhost:8080/"
        },
        "outputId": "20e3399c-c696-4b1c-f27b-b24628a7c5be"
      },
      "execution_count": null,
      "outputs": [
        {
          "output_type": "execute_result",
          "data": {
            "text/plain": [
              "2"
            ]
          },
          "metadata": {},
          "execution_count": 12
        }
      ]
    },
    {
      "cell_type": "markdown",
      "source": [
        "### This function gives the recomendations based off the input track name and cooccurance matrix:\n",
        "*Will be used later to tune NN parameters*"
      ],
      "metadata": {
        "id": "PNkNwDdpnciJ"
      }
    },
    {
      "cell_type": "code",
      "source": [
        "def make_recommendations(track_name, similarity_matrix, num_recommendations, tset):\n",
        "    # Convert track_name to a hashable type (e.g., string) if needed\n",
        "    track_name_hashable = track_name if isinstance(track_name, str) else str(track_name)\n",
        "\n",
        "    # Check if the track_name is in the set\n",
        "    if track_name_hashable not in tset:\n",
        "        raise ValueError(f\"Track name '{track_name}' not found in the set of track names.\")\n",
        "\n",
        "    # Convert the set to a list for indexing\n",
        "    track_names = list(tset)\n",
        "\n",
        "    # Get the index of the specified track name\n",
        "    track_index = track_names.index(track_name_hashable)\n",
        "\n",
        "    # Get similarity scores for the specified track\n",
        "    track_similarity_scores = similarity_matrix[track_index, :]\n",
        "\n",
        "    # Get indices of top recommendations based on similarity scores\n",
        "    top_recommendations_indices = np.argsort(track_similarity_scores)[-num_recommendations:][::-1]\n",
        "\n",
        "    return top_recommendations_indices"
      ],
      "metadata": {
        "id": "hLfd_syuF_CN"
      },
      "execution_count": null,
      "outputs": []
    },
    {
      "cell_type": "markdown",
      "source": [
        "*The function outputs an array of track indexes, which then can be converted to track names.*"
      ],
      "metadata": {
        "id": "OfwwsEztjUfI"
      }
    },
    {
      "cell_type": "code",
      "source": [
        "make_recommendations(\"45\", similarity_matrix, 5, tset)"
      ],
      "metadata": {
        "colab": {
          "base_uri": "https://localhost:8080/"
        },
        "id": "yGB2HFFrX-xl",
        "outputId": "b5d39d5e-f8ce-489c-d5b1-5d302bcdcb1c"
      },
      "execution_count": null,
      "outputs": [
        {
          "output_type": "execute_result",
          "data": {
            "text/plain": [
              "array([27457,  1053, 14052, 27589, 25922])"
            ]
          },
          "metadata": {},
          "execution_count": 15
        }
      ]
    },
    {
      "cell_type": "code",
      "source": [
        "def indices_to_track_names(indices, track_names):\n",
        "    return [track_names[index] for index in indices]"
      ],
      "metadata": {
        "id": "yO6WEiiHwkma"
      },
      "execution_count": null,
      "outputs": []
    },
    {
      "cell_type": "code",
      "source": [
        "temp = make_recommendations(\"45\", similarity_matrix, 5, tset)\n",
        "indices_to_track_names(temp, list(tset))"
      ],
      "metadata": {
        "colab": {
          "base_uri": "https://localhost:8080/"
        },
        "id": "lXH_n8n-wmOm",
        "outputId": "5f880622-728a-48d0-dc56-5a52aad0221c"
      },
      "execution_count": null,
      "outputs": [
        {
          "output_type": "execute_result",
          "data": {
            "text/plain": [
              "['45',\n",
              " 'Sweet Dreams (Are Made of This) - Remastered',\n",
              " 'A Start',\n",
              " 'Losing My Religion',\n",
              " 'Event: Confrontation With Iblis']"
            ]
          },
          "metadata": {},
          "execution_count": 17
        }
      ]
    },
    {
      "cell_type": "markdown",
      "source": [
        "We just made a cooccurance matrix, which we used to make a cosigne similarity matrix of track to tracks. And then we used that matrix to define an item to item collaborative filtering function. Now we will make a multilabel classification machine learning model to intake a list of tracks and output a seed track - except in our case the seed track is the outcome variable. We will take the top 500 seed tracks, with the highest probability, and output that as our solution to the competion.\n",
        "\n",
        "**NOTE:** The model accuracy score is useless for our business case. The model accuracy will be checking if the top recomended track is the right corresponding track, but rather we only care if it is one of the top 500 recomended tracks - so we will tune the parameters using a custom loop to output the top 500 and top 100 accuracy score."
      ],
      "metadata": {
        "id": "9SZmlQAWtcwg"
      }
    },
    {
      "cell_type": "code",
      "source": [
        "similarity_matrix.shape"
      ],
      "metadata": {
        "colab": {
          "base_uri": "https://localhost:8080/"
        },
        "id": "DmgEiDa92ETg",
        "outputId": "0e8fe9ec-55e6-4d20-8408-7f9c12db300f"
      },
      "execution_count": 34,
      "outputs": [
        {
          "output_type": "execute_result",
          "data": {
            "text/plain": [
              "(30752, 30752)"
            ]
          },
          "metadata": {},
          "execution_count": 34
        }
      ]
    },
    {
      "cell_type": "code",
      "source": [
        "similarity_matrix"
      ],
      "metadata": {
        "id": "INP1jLktln0M",
        "colab": {
          "base_uri": "https://localhost:8080/"
        },
        "outputId": "7b174dea-d218-4e9a-cbbe-f30a5780e3ba"
      },
      "execution_count": null,
      "outputs": [
        {
          "output_type": "execute_result",
          "data": {
            "text/plain": [
              "array([[1., 0., 0., ..., 0., 0., 0.],\n",
              "       [0., 1., 0., ..., 0., 0., 0.],\n",
              "       [0., 0., 1., ..., 0., 0., 0.],\n",
              "       ...,\n",
              "       [0., 0., 0., ..., 1., 0., 1.],\n",
              "       [0., 0., 0., ..., 0., 1., 0.],\n",
              "       [0., 0., 0., ..., 1., 0., 1.]])"
            ]
          },
          "metadata": {},
          "execution_count": 18
        }
      ]
    },
    {
      "cell_type": "code",
      "source": [
        "import numpy as np\n",
        "import tensorflow as tf\n",
        "from sklearn.model_selection import train_test_split\n",
        "from sklearn.preprocessing import LabelEncoder\n",
        "from sklearn.metrics import accuracy_score"
      ],
      "metadata": {
        "id": "m7hQC5l5Jtqa"
      },
      "execution_count": null,
      "outputs": []
    },
    {
      "cell_type": "markdown",
      "source": [
        "*Building the model*"
      ],
      "metadata": {
        "id": "OH7IcQMdkIyK"
      }
    },
    {
      "cell_type": "code",
      "source": [
        "# Assuming similarity_matrix and tset are defined\n",
        "X = similarity_matrix\n",
        "y = np.array(list(tset))\n",
        "\n",
        "# Split the data into training and test sets\n",
        "X_train, X_test, y_train, y_test = train_test_split(X, y, test_size=0.2, random_state=42)\n",
        "# Combine labels from both training and test sets\n",
        "all_labels = np.concatenate((y_train, y_test), axis=None)\n",
        "\n",
        "# Use LabelEncoder to fit on the combined labels\n",
        "label_encoder = LabelEncoder()\n",
        "label_encoder.fit(all_labels)\n",
        "\n",
        "\n",
        "\n",
        "# Encode the labels using the LabelEncoder\n",
        "y_train_encoded = label_encoder.transform(y_train)\n",
        "y_test_encoded = label_encoder.transform(y_test)\n",
        "\n",
        "# Build the model\n",
        "model = tf.keras.Sequential([\n",
        "    tf.keras.layers.Dense(128, activation='relu', input_shape=(X.shape[1],)),\n",
        "    tf.keras.layers.Dense(len(label_encoder.classes_), activation='softmax')\n",
        "])\n",
        "\n",
        "# Compile the model\n",
        "model.compile(optimizer='adam', loss='sparse_categorical_crossentropy', metrics=['accuracy'])"
      ],
      "metadata": {
        "id": "zVxp0JG8CNKl"
      },
      "execution_count": null,
      "outputs": []
    },
    {
      "cell_type": "code",
      "source": [
        "# Train the model\n",
        "model.fit(X_train, y_train_encoded, epochs=20, batch_size=64)"
      ],
      "metadata": {
        "colab": {
          "base_uri": "https://localhost:8080/"
        },
        "id": "2G3Hv_px7_8z",
        "outputId": "a5fea781-8c50-4432-c16c-96043a6c4f6b"
      },
      "execution_count": null,
      "outputs": [
        {
          "output_type": "stream",
          "name": "stdout",
          "text": [
            "Epoch 1/20\n",
            "385/385 [==============================] - 20s 51ms/step - loss: 10.3942 - accuracy: 0.0000e+00\n",
            "Epoch 2/20\n",
            "385/385 [==============================] - 20s 51ms/step - loss: 10.1386 - accuracy: 4.0649e-05\n",
            "Epoch 3/20\n",
            "385/385 [==============================] - 19s 50ms/step - loss: 8.5783 - accuracy: 0.0148\n",
            "Epoch 4/20\n",
            "385/385 [==============================] - 27s 70ms/step - loss: 6.4707 - accuracy: 0.0496\n",
            "Epoch 5/20\n",
            "385/385 [==============================] - 32s 82ms/step - loss: 5.1466 - accuracy: 0.0977\n",
            "Epoch 6/20\n",
            "385/385 [==============================] - 19s 50ms/step - loss: 4.3062 - accuracy: 0.1506\n",
            "Epoch 7/20\n",
            "385/385 [==============================] - 20s 51ms/step - loss: 3.7712 - accuracy: 0.2008\n",
            "Epoch 8/20\n",
            "385/385 [==============================] - 19s 50ms/step - loss: 3.4326 - accuracy: 0.2329\n",
            "Epoch 9/20\n",
            "385/385 [==============================] - 20s 51ms/step - loss: 3.2201 - accuracy: 0.2546\n",
            "Epoch 10/20\n",
            "385/385 [==============================] - 20s 51ms/step - loss: 3.0836 - accuracy: 0.2691\n",
            "Epoch 11/20\n",
            "385/385 [==============================] - 23s 60ms/step - loss: 2.9929 - accuracy: 0.2746\n",
            "Epoch 12/20\n",
            "385/385 [==============================] - 20s 51ms/step - loss: 2.9220 - accuracy: 0.2809\n",
            "Epoch 13/20\n",
            "385/385 [==============================] - 19s 50ms/step - loss: 2.8781 - accuracy: 0.2845\n",
            "Epoch 14/20\n",
            "385/385 [==============================] - 19s 50ms/step - loss: 2.8460 - accuracy: 0.2862\n",
            "Epoch 15/20\n",
            "385/385 [==============================] - 19s 50ms/step - loss: 2.8187 - accuracy: 0.2878\n",
            "Epoch 16/20\n",
            "385/385 [==============================] - 20s 53ms/step - loss: 2.7944 - accuracy: 0.2871\n",
            "Epoch 17/20\n",
            "385/385 [==============================] - 20s 52ms/step - loss: 2.7797 - accuracy: 0.2873\n",
            "Epoch 18/20\n",
            "385/385 [==============================] - 19s 50ms/step - loss: 2.7659 - accuracy: 0.2884\n",
            "Epoch 19/20\n",
            "385/385 [==============================] - 20s 51ms/step - loss: 2.7491 - accuracy: 0.2898\n",
            "Epoch 20/20\n",
            "385/385 [==============================] - 19s 49ms/step - loss: 2.7422 - accuracy: 0.2911\n"
          ]
        },
        {
          "output_type": "execute_result",
          "data": {
            "text/plain": [
              "<keras.src.callbacks.History at 0x792328811840>"
            ]
          },
          "metadata": {},
          "execution_count": 21
        }
      ]
    },
    {
      "cell_type": "code",
      "source": [
        "# Evaluate the model on the test set\n",
        "accuracy = model.evaluate(X_test, y_test_encoded)\n",
        "print(f'Test Accuracy: {accuracy[1]}')"
      ],
      "metadata": {
        "colab": {
          "base_uri": "https://localhost:8080/"
        },
        "id": "-PrQTKoaJNNw",
        "outputId": "e2ba0080-33a6-42c0-f984-e44cc6fd414d"
      },
      "execution_count": null,
      "outputs": [
        {
          "output_type": "stream",
          "name": "stdout",
          "text": [
            "193/193 [==============================] - 3s 12ms/step - loss: 21.4675 - accuracy: 0.0000e+00\n",
            "Test Accuracy: 0.0\n"
          ]
        }
      ]
    },
    {
      "cell_type": "code",
      "source": [
        "y_pred = model.predict(X_test)\n",
        "pred_labels = label_encoder.inverse_transform(np.argmax(y_pred, axis=1))"
      ],
      "metadata": {
        "id": "GZV3Ts4ytprU",
        "colab": {
          "base_uri": "https://localhost:8080/"
        },
        "outputId": "c7a416c8-5095-4e39-8b68-1b70064f56a7"
      },
      "execution_count": null,
      "outputs": [
        {
          "output_type": "stream",
          "name": "stdout",
          "text": [
            "193/193 [==============================] - 2s 10ms/step\n"
          ]
        }
      ]
    },
    {
      "cell_type": "markdown",
      "source": [
        "*Custom loop to check top 500 and top 100 accuracy score:*"
      ],
      "metadata": {
        "id": "OjzhsPO_kMde"
      }
    },
    {
      "cell_type": "code",
      "source": [
        "i = 0\n",
        "acc_list = []\n",
        "for label in y_test:\n",
        "  #print(f'Actual: {label}, Predicted: {pred_labels[i]}')\n",
        "  recLists = make_recommendations(label, similarity_matrix, 500, tset)\n",
        "  if pred_labels[i] in indices_to_track_names(recLists, list(tset)):\n",
        "    acc_list.append(1)\n",
        "  else:\n",
        "    acc_list.append(0)\n",
        "  i += 1\n"
      ],
      "metadata": {
        "id": "f2L2e8LWOr9L"
      },
      "execution_count": null,
      "outputs": []
    },
    {
      "cell_type": "code",
      "source": [
        "sum(acc_list)/len(acc_list)"
      ],
      "metadata": {
        "colab": {
          "base_uri": "https://localhost:8080/"
        },
        "id": "Vgi9a9L1Qdhc",
        "outputId": "1c212a9f-0230-40e6-e132-1af5a5fbdaae"
      },
      "execution_count": null,
      "outputs": [
        {
          "output_type": "execute_result",
          "data": {
            "text/plain": [
              "0.962119980490977"
            ]
          },
          "metadata": {},
          "execution_count": 27
        }
      ]
    },
    {
      "cell_type": "markdown",
      "source": [
        "Again the model accuracy score is predicting the top song of all the 30k+ possibilities, so obviously it is not performing well. We only care about it predicting the correct top 500 - the order is ambiguous. So in this case our model is actually performing at 96.21% accuracy with the test set - which is really good."
      ],
      "metadata": {
        "id": "x6fBZJLxb-En"
      }
    },
    {
      "cell_type": "markdown",
      "source": [
        "\n",
        "---\n"
      ],
      "metadata": {
        "id": "ih0-_jKN-2G6"
      }
    },
    {
      "cell_type": "markdown",
      "source": [
        "# Formatting Submission\n",
        "*Creating submission with the proper requested formatting.*"
      ],
      "metadata": {
        "id": "vnrw9vV_-znC"
      }
    },
    {
      "cell_type": "code",
      "source": [
        "import csv\n",
        "import gzip"
      ],
      "metadata": {
        "id": "W2va-RQz_CzO"
      },
      "execution_count": null,
      "outputs": []
    },
    {
      "cell_type": "code",
      "source": [
        "data = [[\"team_info\", \"Mad City Metrics\", \"epanderson6@wisc.edu\", \"ldesmet@wisc.edu\"]]\n",
        "for label in y_test:\n",
        "  #print(f'Actual: {label}, Predicted: {pred_labels[i]}')\n",
        "  recLists = make_recommendations(label, similarity_matrix, 500, tset)\n",
        "  data.append([indices_to_track_names(recLists, list(tset))])"
      ],
      "metadata": {
        "id": "8iH0FH5FBQHX"
      },
      "execution_count": null,
      "outputs": []
    },
    {
      "cell_type": "code",
      "source": [
        "output_file_path = 'madCityMetrics_submission.csv.gz'\n",
        "\n",
        "# Writing to a gzipped CSV file\n",
        "with gzip.open(output_file_path, 'wt', newline='', encoding='utf-8') as file:\n",
        "    csv_writer = csv.writer(file)\n",
        "\n",
        "    # Writing the data to the CSV file\n",
        "    csv_writer.writerows(data)\n",
        "\n",
        "print(f'Data has been written to {output_file_path}')"
      ],
      "metadata": {
        "id": "IRhctHrrzBzs",
        "colab": {
          "base_uri": "https://localhost:8080/"
        },
        "outputId": "283ada45-79e7-4804-85d5-091fa7e4e6bd"
      },
      "execution_count": null,
      "outputs": [
        {
          "output_type": "stream",
          "name": "stdout",
          "text": [
            "Data has been written to madCityMetrics_submission.csv.gz\n"
          ]
        }
      ]
    }
  ],
  "metadata": {
    "colab": {
      "provenance": [],
      "machine_shape": "hm",
      "collapsed_sections": [
        "npsoGUvDKWn2",
        "BdkJGQ8QkYRV"
      ]
    },
    "kernelspec": {
      "display_name": "Python 3",
      "name": "python3"
    },
    "language_info": {
      "name": "python"
    }
  },
  "nbformat": 4,
  "nbformat_minor": 0
}